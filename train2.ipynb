{
  "cells": [
    {
      "cell_type": "markdown",
      "metadata": {
        "id": "view-in-github",
        "colab_type": "text"
      },
      "source": [
        "<a href=\"https://colab.research.google.com/github/AditJain13/PersonalData/blob/main/train2.ipynb\" target=\"_parent\"><img src=\"https://colab.research.google.com/assets/colab-badge.svg\" alt=\"Open In Colab\"/></a>"
      ]
    },
    {
      "cell_type": "code",
      "execution_count": null,
      "metadata": {
        "colab": {
          "base_uri": "https://localhost:8080/"
        },
        "id": "LVUqi18Wg-mG",
        "outputId": "d7a92998-d32c-49f7-8cef-c8cec4c33f15"
      },
      "outputs": [
        {
          "output_type": "stream",
          "name": "stdout",
          "text": [
            "Wed Mar 13 08:40:41 2024       \n",
            "+---------------------------------------------------------------------------------------+\n",
            "| NVIDIA-SMI 535.104.05             Driver Version: 535.104.05   CUDA Version: 12.2     |\n",
            "|-----------------------------------------+----------------------+----------------------+\n",
            "| GPU  Name                 Persistence-M | Bus-Id        Disp.A | Volatile Uncorr. ECC |\n",
            "| Fan  Temp   Perf          Pwr:Usage/Cap |         Memory-Usage | GPU-Util  Compute M. |\n",
            "|                                         |                      |               MIG M. |\n",
            "|=========================================+======================+======================|\n",
            "|   0  Tesla T4                       Off | 00000000:00:04.0 Off |                    0 |\n",
            "| N/A   52C    P8               9W /  70W |      0MiB / 15360MiB |      0%      Default |\n",
            "|                                         |                      |                  N/A |\n",
            "+-----------------------------------------+----------------------+----------------------+\n",
            "                                                                                         \n",
            "+---------------------------------------------------------------------------------------+\n",
            "| Processes:                                                                            |\n",
            "|  GPU   GI   CI        PID   Type   Process name                            GPU Memory |\n",
            "|        ID   ID                                                             Usage      |\n",
            "|=======================================================================================|\n",
            "|  No running processes found                                                           |\n",
            "+---------------------------------------------------------------------------------------+\n",
            "Mounted at /content/drive\n"
          ]
        }
      ],
      "source": [
        "gpu_info = !nvidia-smi\n",
        "gpu_info = '\\n'.join(gpu_info)\n",
        "if gpu_info.find('failed') >= 0:\n",
        "  print('Not connected to a GPU')\n",
        "else:\n",
        "  print(gpu_info)\n",
        "\n",
        "from google.colab import drive\n",
        "drive.mount('/content/drive')"
      ]
    },
    {
      "cell_type": "code",
      "execution_count": null,
      "metadata": {
        "colab": {
          "base_uri": "https://localhost:8080/"
        },
        "id": "uis33vadg_yW",
        "outputId": "b9b711e7-ff74-4465-f4f7-24d09c72a5f6"
      },
      "outputs": [
        {
          "output_type": "stream",
          "name": "stdout",
          "text": [
            "Collecting ultralytics\n",
            "  Downloading ultralytics-8.1.27-py3-none-any.whl (721 kB)\n",
            "\u001b[2K     \u001b[90m━━━━━━━━━━━━━━━━━━━━━━━━━━━━━━━━━━━━━━━━\u001b[0m \u001b[32m721.2/721.2 kB\u001b[0m \u001b[31m4.3 MB/s\u001b[0m eta \u001b[36m0:00:00\u001b[0m\n",
            "\u001b[?25hRequirement already satisfied: matplotlib>=3.3.0 in /usr/local/lib/python3.10/dist-packages (from ultralytics) (3.7.1)\n",
            "Requirement already satisfied: opencv-python>=4.6.0 in /usr/local/lib/python3.10/dist-packages (from ultralytics) (4.8.0.76)\n",
            "Requirement already satisfied: pillow>=7.1.2 in /usr/local/lib/python3.10/dist-packages (from ultralytics) (9.4.0)\n",
            "Requirement already satisfied: pyyaml>=5.3.1 in /usr/local/lib/python3.10/dist-packages (from ultralytics) (6.0.1)\n",
            "Requirement already satisfied: requests>=2.23.0 in /usr/local/lib/python3.10/dist-packages (from ultralytics) (2.31.0)\n",
            "Requirement already satisfied: scipy>=1.4.1 in /usr/local/lib/python3.10/dist-packages (from ultralytics) (1.11.4)\n",
            "Requirement already satisfied: torch>=1.8.0 in /usr/local/lib/python3.10/dist-packages (from ultralytics) (2.1.0+cu121)\n",
            "Requirement already satisfied: torchvision>=0.9.0 in /usr/local/lib/python3.10/dist-packages (from ultralytics) (0.16.0+cu121)\n",
            "Requirement already satisfied: tqdm>=4.64.0 in /usr/local/lib/python3.10/dist-packages (from ultralytics) (4.66.2)\n",
            "Requirement already satisfied: psutil in /usr/local/lib/python3.10/dist-packages (from ultralytics) (5.9.5)\n",
            "Requirement already satisfied: py-cpuinfo in /usr/local/lib/python3.10/dist-packages (from ultralytics) (9.0.0)\n",
            "Collecting thop>=0.1.1 (from ultralytics)\n",
            "  Downloading thop-0.1.1.post2209072238-py3-none-any.whl (15 kB)\n",
            "Requirement already satisfied: pandas>=1.1.4 in /usr/local/lib/python3.10/dist-packages (from ultralytics) (1.5.3)\n",
            "Requirement already satisfied: seaborn>=0.11.0 in /usr/local/lib/python3.10/dist-packages (from ultralytics) (0.13.1)\n",
            "Requirement already satisfied: contourpy>=1.0.1 in /usr/local/lib/python3.10/dist-packages (from matplotlib>=3.3.0->ultralytics) (1.2.0)\n",
            "Requirement already satisfied: cycler>=0.10 in /usr/local/lib/python3.10/dist-packages (from matplotlib>=3.3.0->ultralytics) (0.12.1)\n",
            "Requirement already satisfied: fonttools>=4.22.0 in /usr/local/lib/python3.10/dist-packages (from matplotlib>=3.3.0->ultralytics) (4.49.0)\n",
            "Requirement already satisfied: kiwisolver>=1.0.1 in /usr/local/lib/python3.10/dist-packages (from matplotlib>=3.3.0->ultralytics) (1.4.5)\n",
            "Requirement already satisfied: numpy>=1.20 in /usr/local/lib/python3.10/dist-packages (from matplotlib>=3.3.0->ultralytics) (1.25.2)\n",
            "Requirement already satisfied: packaging>=20.0 in /usr/local/lib/python3.10/dist-packages (from matplotlib>=3.3.0->ultralytics) (23.2)\n",
            "Requirement already satisfied: pyparsing>=2.3.1 in /usr/local/lib/python3.10/dist-packages (from matplotlib>=3.3.0->ultralytics) (3.1.2)\n",
            "Requirement already satisfied: python-dateutil>=2.7 in /usr/local/lib/python3.10/dist-packages (from matplotlib>=3.3.0->ultralytics) (2.8.2)\n",
            "Requirement already satisfied: pytz>=2020.1 in /usr/local/lib/python3.10/dist-packages (from pandas>=1.1.4->ultralytics) (2023.4)\n",
            "Requirement already satisfied: charset-normalizer<4,>=2 in /usr/local/lib/python3.10/dist-packages (from requests>=2.23.0->ultralytics) (3.3.2)\n",
            "Requirement already satisfied: idna<4,>=2.5 in /usr/local/lib/python3.10/dist-packages (from requests>=2.23.0->ultralytics) (3.6)\n",
            "Requirement already satisfied: urllib3<3,>=1.21.1 in /usr/local/lib/python3.10/dist-packages (from requests>=2.23.0->ultralytics) (2.0.7)\n",
            "Requirement already satisfied: certifi>=2017.4.17 in /usr/local/lib/python3.10/dist-packages (from requests>=2.23.0->ultralytics) (2024.2.2)\n",
            "Requirement already satisfied: filelock in /usr/local/lib/python3.10/dist-packages (from torch>=1.8.0->ultralytics) (3.13.1)\n",
            "Requirement already satisfied: typing-extensions in /usr/local/lib/python3.10/dist-packages (from torch>=1.8.0->ultralytics) (4.10.0)\n",
            "Requirement already satisfied: sympy in /usr/local/lib/python3.10/dist-packages (from torch>=1.8.0->ultralytics) (1.12)\n",
            "Requirement already satisfied: networkx in /usr/local/lib/python3.10/dist-packages (from torch>=1.8.0->ultralytics) (3.2.1)\n",
            "Requirement already satisfied: jinja2 in /usr/local/lib/python3.10/dist-packages (from torch>=1.8.0->ultralytics) (3.1.3)\n",
            "Requirement already satisfied: fsspec in /usr/local/lib/python3.10/dist-packages (from torch>=1.8.0->ultralytics) (2023.6.0)\n",
            "Requirement already satisfied: triton==2.1.0 in /usr/local/lib/python3.10/dist-packages (from torch>=1.8.0->ultralytics) (2.1.0)\n",
            "Requirement already satisfied: six>=1.5 in /usr/local/lib/python3.10/dist-packages (from python-dateutil>=2.7->matplotlib>=3.3.0->ultralytics) (1.16.0)\n",
            "Requirement already satisfied: MarkupSafe>=2.0 in /usr/local/lib/python3.10/dist-packages (from jinja2->torch>=1.8.0->ultralytics) (2.1.5)\n",
            "Requirement already satisfied: mpmath>=0.19 in /usr/local/lib/python3.10/dist-packages (from sympy->torch>=1.8.0->ultralytics) (1.3.0)\n",
            "Installing collected packages: thop, ultralytics\n",
            "Successfully installed thop-0.1.1.post2209072238 ultralytics-8.1.27\n",
            "/content/drive/MyDrive\n"
          ]
        }
      ],
      "source": [
        "!pip install ultralytics\n",
        "from ultralytics import YOLO\n",
        "from ultralytics import settings\n",
        "\n",
        "%cd /content/drive/MyDrive/\n"
      ]
    },
    {
      "cell_type": "code",
      "execution_count": null,
      "metadata": {
        "colab": {
          "base_uri": "https://localhost:8080/"
        },
        "id": "UM1fBziam22c",
        "outputId": "3383b18e-a7dd-4ddf-eea1-2f2210059629"
      },
      "outputs": [
        {
          "output_type": "stream",
          "name": "stdout",
          "text": [
            "{'settings_version': '0.0.4', 'datasets_dir': '/content/drive/MyDrive/PCB-CELLS.v2i.yolov8 (1)/', 'weights_dir': 'weights', 'runs_dir': 'runs', 'uuid': '569f3ba64b326db489132663f79cd37279811de477381b83ac131e6cdd129cbb', 'sync': True, 'api_key': '', 'openai_api_key': '', 'clearml': True, 'comet': True, 'dvc': True, 'hub': True, 'mlflow': True, 'neptune': True, 'raytune': True, 'tensorboard': True, 'wandb': True}\n"
          ]
        }
      ],
      "source": [
        "data_dir = '/content/drive/MyDrive/PCB-CELLS.v2i.yolov8 (1)/' # declare path to dataset folder\n",
        "\n",
        "settings.update({'datasets_dir': data_dir})\n",
        "settings.save()\n",
        "settings.load()\n",
        "print(settings)"
      ]
    },
    {
      "cell_type": "code",
      "execution_count": null,
      "metadata": {
        "colab": {
          "base_uri": "https://localhost:8080/"
        },
        "id": "SFwF38HYhEn3",
        "outputId": "a7b688ff-44ab-4fcb-d125-5cf199c40b55"
      },
      "outputs": [
        {
          "output_type": "stream",
          "name": "stdout",
          "text": [
            "Downloading https://github.com/ultralytics/assets/releases/download/v8.1.0/yolov8x.pt to 'yolov8x.pt'...\n"
          ]
        },
        {
          "output_type": "stream",
          "name": "stderr",
          "text": [
            "100%|██████████| 131M/131M [00:00<00:00, 172MB/s]\n"
          ]
        },
        {
          "output_type": "stream",
          "name": "stdout",
          "text": [
            "Ultralytics YOLOv8.1.27 🚀 Python-3.10.12 torch-2.1.0+cu121 CUDA:0 (Tesla T4, 15102MiB)\n",
            "\u001b[34m\u001b[1mengine/trainer: \u001b[0mtask=detect, mode=train, model=yolov8x.pt, data=/content/drive/MyDrive/PCB-CELLS.v2i.yolov8 (1)/data.yaml, epochs=100, time=None, patience=50, batch=16, imgsz=640, save=True, save_period=-1, cache=False, device=None, workers=8, project=None, name=train, exist_ok=False, pretrained=True, optimizer=auto, verbose=True, seed=0, deterministic=True, single_cls=False, rect=False, cos_lr=False, close_mosaic=10, resume=False, amp=True, fraction=1.0, profile=False, freeze=None, multi_scale=False, overlap_mask=True, mask_ratio=4, dropout=0.0, val=True, split=val, save_json=False, save_hybrid=False, conf=None, iou=0.7, max_det=300, half=False, dnn=False, plots=True, source=None, vid_stride=1, stream_buffer=False, visualize=False, augment=False, agnostic_nms=False, classes=None, retina_masks=False, embed=None, show=False, save_frames=False, save_txt=False, save_conf=False, save_crop=False, show_labels=True, show_conf=True, show_boxes=True, line_width=None, format=torchscript, keras=False, optimize=False, int8=False, dynamic=False, simplify=False, opset=None, workspace=4, nms=False, lr0=0.01, lrf=0.01, momentum=0.937, weight_decay=0.0005, warmup_epochs=3.0, warmup_momentum=0.8, warmup_bias_lr=0.1, box=7.5, cls=0.5, dfl=1.5, pose=12.0, kobj=1.0, label_smoothing=0.0, nbs=64, hsv_h=0.015, hsv_s=0.7, hsv_v=0.4, degrees=0.0, translate=0.1, scale=0.5, shear=0.0, perspective=0.0, flipud=0.0, fliplr=0.5, mosaic=1.0, mixup=0.0, copy_paste=0.0, auto_augment=randaugment, erasing=0.4, crop_fraction=1.0, cfg=None, tracker=botsort.yaml, save_dir=runs/detect/train\n",
            "Downloading https://ultralytics.com/assets/Arial.ttf to '/root/.config/Ultralytics/Arial.ttf'...\n"
          ]
        },
        {
          "output_type": "stream",
          "name": "stderr",
          "text": [
            "100%|██████████| 755k/755k [00:00<00:00, 16.5MB/s]\n"
          ]
        },
        {
          "output_type": "stream",
          "name": "stdout",
          "text": [
            "Overriding model.yaml nc=80 with nc=2\n",
            "\n",
            "                   from  n    params  module                                       arguments                     \n",
            "  0                  -1  1      2320  ultralytics.nn.modules.conv.Conv             [3, 80, 3, 2]                 \n",
            "  1                  -1  1    115520  ultralytics.nn.modules.conv.Conv             [80, 160, 3, 2]               \n",
            "  2                  -1  3    436800  ultralytics.nn.modules.block.C2f             [160, 160, 3, True]           \n",
            "  3                  -1  1    461440  ultralytics.nn.modules.conv.Conv             [160, 320, 3, 2]              \n",
            "  4                  -1  6   3281920  ultralytics.nn.modules.block.C2f             [320, 320, 6, True]           \n",
            "  5                  -1  1   1844480  ultralytics.nn.modules.conv.Conv             [320, 640, 3, 2]              \n",
            "  6                  -1  6  13117440  ultralytics.nn.modules.block.C2f             [640, 640, 6, True]           \n",
            "  7                  -1  1   3687680  ultralytics.nn.modules.conv.Conv             [640, 640, 3, 2]              \n",
            "  8                  -1  3   6969600  ultralytics.nn.modules.block.C2f             [640, 640, 3, True]           \n",
            "  9                  -1  1   1025920  ultralytics.nn.modules.block.SPPF            [640, 640, 5]                 \n",
            " 10                  -1  1         0  torch.nn.modules.upsampling.Upsample         [None, 2, 'nearest']          \n",
            " 11             [-1, 6]  1         0  ultralytics.nn.modules.conv.Concat           [1]                           \n",
            " 12                  -1  3   7379200  ultralytics.nn.modules.block.C2f             [1280, 640, 3]                \n",
            " 13                  -1  1         0  torch.nn.modules.upsampling.Upsample         [None, 2, 'nearest']          \n",
            " 14             [-1, 4]  1         0  ultralytics.nn.modules.conv.Concat           [1]                           \n",
            " 15                  -1  3   1948800  ultralytics.nn.modules.block.C2f             [960, 320, 3]                 \n",
            " 16                  -1  1    922240  ultralytics.nn.modules.conv.Conv             [320, 320, 3, 2]              \n",
            " 17            [-1, 12]  1         0  ultralytics.nn.modules.conv.Concat           [1]                           \n",
            " 18                  -1  3   7174400  ultralytics.nn.modules.block.C2f             [960, 640, 3]                 \n",
            " 19                  -1  1   3687680  ultralytics.nn.modules.conv.Conv             [640, 640, 3, 2]              \n",
            " 20             [-1, 9]  1         0  ultralytics.nn.modules.conv.Concat           [1]                           \n",
            " 21                  -1  3   7379200  ultralytics.nn.modules.block.C2f             [1280, 640, 3]                \n",
            " 22        [15, 18, 21]  1   8719894  ultralytics.nn.modules.head.Detect           [2, [320, 640, 640]]          \n",
            "Model summary: 365 layers, 68154534 parameters, 68154518 gradients, 258.1 GFLOPs\n",
            "\n",
            "Transferred 589/595 items from pretrained weights\n",
            "\u001b[34m\u001b[1mTensorBoard: \u001b[0mStart with 'tensorboard --logdir runs/detect/train', view at http://localhost:6006/\n",
            "Freezing layer 'model.22.dfl.conv.weight'\n",
            "\u001b[34m\u001b[1mAMP: \u001b[0mrunning Automatic Mixed Precision (AMP) checks with YOLOv8n...\n",
            "Downloading https://github.com/ultralytics/assets/releases/download/v8.1.0/yolov8n.pt to 'yolov8n.pt'...\n"
          ]
        },
        {
          "output_type": "stream",
          "name": "stderr",
          "text": [
            "100%|██████████| 6.23M/6.23M [00:00<00:00, 75.1MB/s]\n"
          ]
        },
        {
          "output_type": "stream",
          "name": "stdout",
          "text": [
            "\u001b[34m\u001b[1mAMP: \u001b[0mchecks passed ✅\n"
          ]
        },
        {
          "output_type": "stream",
          "name": "stderr",
          "text": [
            "\u001b[34m\u001b[1mtrain: \u001b[0mScanning /content/drive/MyDrive/PCB-CELLS.v2i.yolov8 (1)/train/labels... 209 images, 0 backgrounds, 0 corrupt: 100%|██████████| 209/209 [01:07<00:00,  3.09it/s]\n"
          ]
        },
        {
          "output_type": "stream",
          "name": "stdout",
          "text": [
            "\u001b[34m\u001b[1mtrain: \u001b[0mNew cache created: /content/drive/MyDrive/PCB-CELLS.v2i.yolov8 (1)/train/labels.cache\n",
            "\u001b[34m\u001b[1malbumentations: \u001b[0mBlur(p=0.01, blur_limit=(3, 7)), MedianBlur(p=0.01, blur_limit=(3, 7)), ToGray(p=0.01), CLAHE(p=0.01, clip_limit=(1, 4.0), tile_grid_size=(8, 8))\n"
          ]
        },
        {
          "output_type": "stream",
          "name": "stderr",
          "text": [
            "\u001b[34m\u001b[1mval: \u001b[0mScanning /content/drive/MyDrive/PCB-CELLS.v2i.yolov8 (1)/valid/labels... 18 images, 0 backgrounds, 0 corrupt: 100%|██████████| 18/18 [00:43<00:00,  2.41s/it]"
          ]
        },
        {
          "output_type": "stream",
          "name": "stdout",
          "text": [
            "\u001b[34m\u001b[1mval: \u001b[0mNew cache created: /content/drive/MyDrive/PCB-CELLS.v2i.yolov8 (1)/valid/labels.cache\n"
          ]
        },
        {
          "output_type": "stream",
          "name": "stderr",
          "text": [
            "\n"
          ]
        },
        {
          "output_type": "stream",
          "name": "stdout",
          "text": [
            "Plotting labels to runs/detect/train/labels.jpg... \n",
            "\u001b[34m\u001b[1moptimizer:\u001b[0m 'optimizer=auto' found, ignoring 'lr0=0.01' and 'momentum=0.937' and determining best 'optimizer', 'lr0' and 'momentum' automatically... \n",
            "\u001b[34m\u001b[1moptimizer:\u001b[0m AdamW(lr=0.001667, momentum=0.9) with parameter groups 97 weight(decay=0.0), 104 weight(decay=0.0005), 103 bias(decay=0.0)\n",
            "\u001b[34m\u001b[1mTensorBoard: \u001b[0mmodel graph visualization added ✅\n",
            "Image sizes 640 train, 640 val\n",
            "Using 2 dataloader workers\n",
            "Logging results to \u001b[1mruns/detect/train\u001b[0m\n",
            "Starting training for 100 epochs...\n",
            "\n",
            "      Epoch    GPU_mem   box_loss   cls_loss   dfl_loss  Instances       Size\n"
          ]
        },
        {
          "output_type": "stream",
          "name": "stderr",
          "text": [
            "      1/100      14.3G     0.9747      2.805      1.421          2        640: 100%|██████████| 14/14 [00:17<00:00,  1.28s/it]\n",
            "                 Class     Images  Instances      Box(P          R      mAP50  mAP50-95): 100%|██████████| 1/1 [00:02<00:00,  2.20s/it]"
          ]
        },
        {
          "output_type": "stream",
          "name": "stdout",
          "text": [
            "                   all         18         18       0.63       0.25      0.126     0.0788\n"
          ]
        },
        {
          "output_type": "stream",
          "name": "stderr",
          "text": [
            "\n"
          ]
        },
        {
          "output_type": "stream",
          "name": "stdout",
          "text": [
            "\n",
            "      Epoch    GPU_mem   box_loss   cls_loss   dfl_loss  Instances       Size\n"
          ]
        },
        {
          "output_type": "stream",
          "name": "stderr",
          "text": [
            "      2/100      14.9G      1.057      1.698       1.42          2        640: 100%|██████████| 14/14 [00:15<00:00,  1.13s/it]\n",
            "                 Class     Images  Instances      Box(P          R      mAP50  mAP50-95): 100%|██████████| 1/1 [00:00<00:00,  1.53it/s]"
          ]
        },
        {
          "output_type": "stream",
          "name": "stdout",
          "text": [
            "                   all         18         18       0.63       0.25      0.126     0.0788\n"
          ]
        },
        {
          "output_type": "stream",
          "name": "stderr",
          "text": [
            "\n"
          ]
        },
        {
          "output_type": "stream",
          "name": "stdout",
          "text": [
            "\n",
            "      Epoch    GPU_mem   box_loss   cls_loss   dfl_loss  Instances       Size\n"
          ]
        },
        {
          "output_type": "stream",
          "name": "stderr",
          "text": [
            "      3/100      14.9G      1.075      1.369      1.342          4        640: 100%|██████████| 14/14 [00:15<00:00,  1.14s/it]\n",
            "                 Class     Images  Instances      Box(P          R      mAP50  mAP50-95): 100%|██████████| 1/1 [00:00<00:00,  1.92it/s]"
          ]
        },
        {
          "output_type": "stream",
          "name": "stdout",
          "text": [
            "                   all         18         18       0.63       0.25      0.126     0.0788\n"
          ]
        },
        {
          "output_type": "stream",
          "name": "stderr",
          "text": [
            "\n"
          ]
        },
        {
          "output_type": "stream",
          "name": "stdout",
          "text": [
            "\n",
            "      Epoch    GPU_mem   box_loss   cls_loss   dfl_loss  Instances       Size\n"
          ]
        },
        {
          "output_type": "stream",
          "name": "stderr",
          "text": [
            "      4/100      14.9G      1.126      1.291      1.381          3        640: 100%|██████████| 14/14 [00:16<00:00,  1.15s/it]\n",
            "                 Class     Images  Instances      Box(P          R      mAP50  mAP50-95): 100%|██████████| 1/1 [00:00<00:00,  1.63it/s]"
          ]
        },
        {
          "output_type": "stream",
          "name": "stdout",
          "text": [
            "                   all         18         18       0.63       0.25      0.126     0.0788\n"
          ]
        },
        {
          "output_type": "stream",
          "name": "stderr",
          "text": [
            "\n"
          ]
        },
        {
          "output_type": "stream",
          "name": "stdout",
          "text": [
            "\n",
            "      Epoch    GPU_mem   box_loss   cls_loss   dfl_loss  Instances       Size\n"
          ]
        },
        {
          "output_type": "stream",
          "name": "stderr",
          "text": [
            "      5/100      14.9G      1.153      1.208      1.385          4        640: 100%|██████████| 14/14 [00:16<00:00,  1.14s/it]\n",
            "                 Class     Images  Instances      Box(P          R      mAP50  mAP50-95): 100%|██████████| 1/1 [00:00<00:00,  1.81it/s]"
          ]
        },
        {
          "output_type": "stream",
          "name": "stdout",
          "text": [
            "                   all         18         18       0.63       0.25      0.126     0.0788\n"
          ]
        },
        {
          "output_type": "stream",
          "name": "stderr",
          "text": [
            "\n"
          ]
        },
        {
          "output_type": "stream",
          "name": "stdout",
          "text": [
            "\n",
            "      Epoch    GPU_mem   box_loss   cls_loss   dfl_loss  Instances       Size\n"
          ]
        },
        {
          "output_type": "stream",
          "name": "stderr",
          "text": [
            "      6/100      14.9G      1.088     0.9782      1.349          1        640: 100%|██████████| 14/14 [00:16<00:00,  1.16s/it]\n",
            "                 Class     Images  Instances      Box(P          R      mAP50  mAP50-95): 100%|██████████| 1/1 [00:00<00:00,  1.73it/s]"
          ]
        },
        {
          "output_type": "stream",
          "name": "stdout",
          "text": [
            "                   all         18         18       0.63       0.25      0.126     0.0788\n"
          ]
        },
        {
          "output_type": "stream",
          "name": "stderr",
          "text": [
            "\n"
          ]
        },
        {
          "output_type": "stream",
          "name": "stdout",
          "text": [
            "\n",
            "      Epoch    GPU_mem   box_loss   cls_loss   dfl_loss  Instances       Size\n"
          ]
        },
        {
          "output_type": "stream",
          "name": "stderr",
          "text": [
            "      7/100      14.9G      1.192     0.9191      1.431          1        640: 100%|██████████| 14/14 [00:16<00:00,  1.16s/it]\n",
            "                 Class     Images  Instances      Box(P          R      mAP50  mAP50-95): 100%|██████████| 1/1 [00:00<00:00,  1.57it/s]"
          ]
        },
        {
          "output_type": "stream",
          "name": "stdout",
          "text": [
            "                   all         18         18       0.63       0.25      0.126     0.0788\n"
          ]
        },
        {
          "output_type": "stream",
          "name": "stderr",
          "text": [
            "\n"
          ]
        },
        {
          "output_type": "stream",
          "name": "stdout",
          "text": [
            "\n",
            "      Epoch    GPU_mem   box_loss   cls_loss   dfl_loss  Instances       Size\n"
          ]
        },
        {
          "output_type": "stream",
          "name": "stderr",
          "text": [
            "      8/100      14.9G      1.214      0.953       1.42          3        640: 100%|██████████| 14/14 [00:16<00:00,  1.15s/it]\n",
            "                 Class     Images  Instances      Box(P          R      mAP50  mAP50-95): 100%|██████████| 1/1 [00:00<00:00,  1.65it/s]"
          ]
        },
        {
          "output_type": "stream",
          "name": "stdout",
          "text": [
            "                   all         18         18       0.63       0.25      0.126     0.0788\n"
          ]
        },
        {
          "output_type": "stream",
          "name": "stderr",
          "text": [
            "\n"
          ]
        },
        {
          "output_type": "stream",
          "name": "stdout",
          "text": [
            "\n",
            "      Epoch    GPU_mem   box_loss   cls_loss   dfl_loss  Instances       Size\n"
          ]
        },
        {
          "output_type": "stream",
          "name": "stderr",
          "text": [
            "      9/100      14.9G     0.9762     0.9369      1.221          0        640: 100%|██████████| 14/14 [00:16<00:00,  1.15s/it]\n",
            "                 Class     Images  Instances      Box(P          R      mAP50  mAP50-95): 100%|██████████| 1/1 [00:00<00:00,  1.65it/s]"
          ]
        },
        {
          "output_type": "stream",
          "name": "stdout",
          "text": [
            "                   all         18         18       0.63       0.25      0.126     0.0788\n"
          ]
        },
        {
          "output_type": "stream",
          "name": "stderr",
          "text": [
            "\n"
          ]
        },
        {
          "output_type": "stream",
          "name": "stdout",
          "text": [
            "\n",
            "      Epoch    GPU_mem   box_loss   cls_loss   dfl_loss  Instances       Size\n"
          ]
        },
        {
          "output_type": "stream",
          "name": "stderr",
          "text": [
            "     10/100      14.9G      1.047      0.833      1.284          4        640: 100%|██████████| 14/14 [00:16<00:00,  1.18s/it]\n",
            "                 Class     Images  Instances      Box(P          R      mAP50  mAP50-95): 100%|██████████| 1/1 [00:00<00:00,  1.06it/s]"
          ]
        },
        {
          "output_type": "stream",
          "name": "stdout",
          "text": [
            "                   all         18         18       0.63       0.25      0.126     0.0788\n"
          ]
        },
        {
          "output_type": "stream",
          "name": "stderr",
          "text": [
            "\n"
          ]
        },
        {
          "output_type": "stream",
          "name": "stdout",
          "text": [
            "\n",
            "      Epoch    GPU_mem   box_loss   cls_loss   dfl_loss  Instances       Size\n"
          ]
        },
        {
          "output_type": "stream",
          "name": "stderr",
          "text": [
            "     11/100      14.9G     0.9809     0.8672      1.298          1        640: 100%|██████████| 14/14 [00:15<00:00,  1.14s/it]\n",
            "                 Class     Images  Instances      Box(P          R      mAP50  mAP50-95): 100%|██████████| 1/1 [00:00<00:00,  1.77it/s]"
          ]
        },
        {
          "output_type": "stream",
          "name": "stdout",
          "text": [
            "                   all         18         18    0.00136       0.25    0.00128   0.000383\n"
          ]
        },
        {
          "output_type": "stream",
          "name": "stderr",
          "text": [
            "\n"
          ]
        },
        {
          "output_type": "stream",
          "name": "stdout",
          "text": [
            "\n",
            "      Epoch    GPU_mem   box_loss   cls_loss   dfl_loss  Instances       Size\n"
          ]
        },
        {
          "output_type": "stream",
          "name": "stderr",
          "text": [
            "     12/100      14.9G     0.8696     0.6591      1.179          2        640: 100%|██████████| 14/14 [00:16<00:00,  1.15s/it]\n",
            "                 Class     Images  Instances      Box(P          R      mAP50  mAP50-95): 100%|██████████| 1/1 [00:00<00:00,  1.69it/s]"
          ]
        },
        {
          "output_type": "stream",
          "name": "stdout",
          "text": [
            "                   all         18         18      0.574       0.75      0.614       0.27\n"
          ]
        },
        {
          "output_type": "stream",
          "name": "stderr",
          "text": [
            "\n"
          ]
        },
        {
          "output_type": "stream",
          "name": "stdout",
          "text": [
            "\n",
            "      Epoch    GPU_mem   box_loss   cls_loss   dfl_loss  Instances       Size\n"
          ]
        },
        {
          "output_type": "stream",
          "name": "stderr",
          "text": [
            "     13/100      14.9G     0.8484     0.6861      1.219          3        640: 100%|██████████| 14/14 [00:16<00:00,  1.17s/it]\n",
            "                 Class     Images  Instances      Box(P          R      mAP50  mAP50-95): 100%|██████████| 1/1 [00:00<00:00,  1.64it/s]"
          ]
        },
        {
          "output_type": "stream",
          "name": "stdout",
          "text": [
            "                   all         18         18      0.973          1      0.995      0.788\n"
          ]
        },
        {
          "output_type": "stream",
          "name": "stderr",
          "text": [
            "\n"
          ]
        },
        {
          "output_type": "stream",
          "name": "stdout",
          "text": [
            "\n",
            "      Epoch    GPU_mem   box_loss   cls_loss   dfl_loss  Instances       Size\n"
          ]
        },
        {
          "output_type": "stream",
          "name": "stderr",
          "text": [
            "     14/100      14.9G     0.8597     0.6831      1.204          2        640: 100%|██████████| 14/14 [00:16<00:00,  1.17s/it]\n",
            "                 Class     Images  Instances      Box(P          R      mAP50  mAP50-95): 100%|██████████| 1/1 [00:00<00:00,  1.19it/s]"
          ]
        },
        {
          "output_type": "stream",
          "name": "stdout",
          "text": [
            "                   all         18         18      0.895      0.964      0.985      0.697\n"
          ]
        },
        {
          "output_type": "stream",
          "name": "stderr",
          "text": [
            "\n"
          ]
        },
        {
          "output_type": "stream",
          "name": "stdout",
          "text": [
            "\n",
            "      Epoch    GPU_mem   box_loss   cls_loss   dfl_loss  Instances       Size\n"
          ]
        },
        {
          "output_type": "stream",
          "name": "stderr",
          "text": [
            "     15/100      14.9G     0.7978     0.6692      1.156          1        640: 100%|██████████| 14/14 [00:15<00:00,  1.14s/it]\n",
            "                 Class     Images  Instances      Box(P          R      mAP50  mAP50-95): 100%|██████████| 1/1 [00:00<00:00,  1.60it/s]"
          ]
        },
        {
          "output_type": "stream",
          "name": "stdout",
          "text": [
            "                   all         18         18      0.623      0.536      0.536       0.48\n"
          ]
        },
        {
          "output_type": "stream",
          "name": "stderr",
          "text": [
            "\n"
          ]
        },
        {
          "output_type": "stream",
          "name": "stdout",
          "text": [
            "\n",
            "      Epoch    GPU_mem   box_loss   cls_loss   dfl_loss  Instances       Size\n"
          ]
        },
        {
          "output_type": "stream",
          "name": "stderr",
          "text": [
            "     16/100      14.9G     0.8198     0.7101      1.159          1        640: 100%|██████████| 14/14 [00:16<00:00,  1.15s/it]\n",
            "                 Class     Images  Instances      Box(P          R      mAP50  mAP50-95): 100%|██████████| 1/1 [00:00<00:00,  1.56it/s]"
          ]
        },
        {
          "output_type": "stream",
          "name": "stdout",
          "text": [
            "                   all         18         18      0.808      0.786      0.832      0.643\n"
          ]
        },
        {
          "output_type": "stream",
          "name": "stderr",
          "text": [
            "\n"
          ]
        },
        {
          "output_type": "stream",
          "name": "stdout",
          "text": [
            "\n",
            "      Epoch    GPU_mem   box_loss   cls_loss   dfl_loss  Instances       Size\n"
          ]
        },
        {
          "output_type": "stream",
          "name": "stderr",
          "text": [
            "     17/100      14.9G     0.7129     0.5982      1.107          2        640: 100%|██████████| 14/14 [00:15<00:00,  1.14s/it]\n",
            "                 Class     Images  Instances      Box(P          R      mAP50  mAP50-95): 100%|██████████| 1/1 [00:00<00:00,  1.82it/s]"
          ]
        },
        {
          "output_type": "stream",
          "name": "stdout",
          "text": [
            "                   all         18         18      0.713      0.857      0.818      0.609\n"
          ]
        },
        {
          "output_type": "stream",
          "name": "stderr",
          "text": [
            "\n"
          ]
        },
        {
          "output_type": "stream",
          "name": "stdout",
          "text": [
            "\n",
            "      Epoch    GPU_mem   box_loss   cls_loss   dfl_loss  Instances       Size\n"
          ]
        },
        {
          "output_type": "stream",
          "name": "stderr",
          "text": [
            "     18/100      14.9G      0.765     0.6267      1.153          1        640: 100%|██████████| 14/14 [00:16<00:00,  1.16s/it]\n",
            "                 Class     Images  Instances      Box(P          R      mAP50  mAP50-95): 100%|██████████| 1/1 [00:00<00:00,  1.23it/s]"
          ]
        },
        {
          "output_type": "stream",
          "name": "stdout",
          "text": [
            "                   all         18         18      0.664      0.816      0.812      0.502\n"
          ]
        },
        {
          "output_type": "stream",
          "name": "stderr",
          "text": [
            "\n"
          ]
        },
        {
          "output_type": "stream",
          "name": "stdout",
          "text": [
            "\n",
            "      Epoch    GPU_mem   box_loss   cls_loss   dfl_loss  Instances       Size\n"
          ]
        },
        {
          "output_type": "stream",
          "name": "stderr",
          "text": [
            "     19/100      14.9G     0.7463     0.6032      1.145          4        640: 100%|██████████| 14/14 [00:15<00:00,  1.14s/it]\n",
            "                 Class     Images  Instances      Box(P          R      mAP50  mAP50-95): 100%|██████████| 1/1 [00:00<00:00,  1.43it/s]"
          ]
        },
        {
          "output_type": "stream",
          "name": "stdout",
          "text": [
            "                   all         18         18      0.491        0.5      0.498      0.347\n"
          ]
        },
        {
          "output_type": "stream",
          "name": "stderr",
          "text": [
            "\n"
          ]
        },
        {
          "output_type": "stream",
          "name": "stdout",
          "text": [
            "\n",
            "      Epoch    GPU_mem   box_loss   cls_loss   dfl_loss  Instances       Size\n"
          ]
        },
        {
          "output_type": "stream",
          "name": "stderr",
          "text": [
            "     20/100      14.9G     0.7588      0.619      1.135          1        640: 100%|██████████| 14/14 [00:16<00:00,  1.15s/it]\n",
            "                 Class     Images  Instances      Box(P          R      mAP50  mAP50-95): 100%|██████████| 1/1 [00:00<00:00,  1.79it/s]"
          ]
        },
        {
          "output_type": "stream",
          "name": "stdout",
          "text": [
            "                   all         18         18      0.992      0.996      0.995      0.894\n"
          ]
        },
        {
          "output_type": "stream",
          "name": "stderr",
          "text": [
            "\n"
          ]
        },
        {
          "output_type": "stream",
          "name": "stdout",
          "text": [
            "\n",
            "      Epoch    GPU_mem   box_loss   cls_loss   dfl_loss  Instances       Size\n"
          ]
        },
        {
          "output_type": "stream",
          "name": "stderr",
          "text": [
            "     21/100      14.9G     0.7509     0.6114       1.15          1        640: 100%|██████████| 14/14 [00:15<00:00,  1.14s/it]\n",
            "                 Class     Images  Instances      Box(P          R      mAP50  mAP50-95): 100%|██████████| 1/1 [00:00<00:00,  1.68it/s]"
          ]
        },
        {
          "output_type": "stream",
          "name": "stdout",
          "text": [
            "                   all         18         18     0.0687      0.964      0.495      0.386\n"
          ]
        },
        {
          "output_type": "stream",
          "name": "stderr",
          "text": [
            "\n"
          ]
        },
        {
          "output_type": "stream",
          "name": "stdout",
          "text": [
            "\n",
            "      Epoch    GPU_mem   box_loss   cls_loss   dfl_loss  Instances       Size\n"
          ]
        },
        {
          "output_type": "stream",
          "name": "stderr",
          "text": [
            "     22/100      14.9G     0.7565     0.6904      1.159          2        640: 100%|██████████| 14/14 [00:16<00:00,  1.16s/it]\n",
            "                 Class     Images  Instances      Box(P          R      mAP50  mAP50-95): 100%|██████████| 1/1 [00:00<00:00,  1.83it/s]"
          ]
        },
        {
          "output_type": "stream",
          "name": "stdout",
          "text": [
            "                   all         18         18      0.988          1      0.995      0.923\n"
          ]
        },
        {
          "output_type": "stream",
          "name": "stderr",
          "text": [
            "\n"
          ]
        },
        {
          "output_type": "stream",
          "name": "stdout",
          "text": [
            "\n",
            "      Epoch    GPU_mem   box_loss   cls_loss   dfl_loss  Instances       Size\n"
          ]
        },
        {
          "output_type": "stream",
          "name": "stderr",
          "text": [
            "     23/100      14.9G     0.7419     0.5382       1.11          3        640: 100%|██████████| 14/14 [00:16<00:00,  1.15s/it]\n",
            "                 Class     Images  Instances      Box(P          R      mAP50  mAP50-95): 100%|██████████| 1/1 [00:00<00:00,  1.71it/s]"
          ]
        },
        {
          "output_type": "stream",
          "name": "stdout",
          "text": [
            "                   all         18         18      0.985          1      0.995      0.679\n"
          ]
        },
        {
          "output_type": "stream",
          "name": "stderr",
          "text": [
            "\n"
          ]
        },
        {
          "output_type": "stream",
          "name": "stdout",
          "text": [
            "\n",
            "      Epoch    GPU_mem   box_loss   cls_loss   dfl_loss  Instances       Size\n"
          ]
        },
        {
          "output_type": "stream",
          "name": "stderr",
          "text": [
            "     24/100      14.9G     0.7122     0.5841      1.101          4        640: 100%|██████████| 14/14 [00:16<00:00,  1.16s/it]\n",
            "                 Class     Images  Instances      Box(P          R      mAP50  mAP50-95): 100%|██████████| 1/1 [00:00<00:00,  1.28it/s]"
          ]
        },
        {
          "output_type": "stream",
          "name": "stdout",
          "text": [
            "                   all         18         18      0.592      0.714      0.606      0.181\n"
          ]
        },
        {
          "output_type": "stream",
          "name": "stderr",
          "text": [
            "\n"
          ]
        },
        {
          "output_type": "stream",
          "name": "stdout",
          "text": [
            "\n",
            "      Epoch    GPU_mem   box_loss   cls_loss   dfl_loss  Instances       Size\n"
          ]
        },
        {
          "output_type": "stream",
          "name": "stderr",
          "text": [
            "     25/100      14.9G     0.7476     0.5665       1.13          1        640: 100%|██████████| 14/14 [00:15<00:00,  1.13s/it]\n",
            "                 Class     Images  Instances      Box(P          R      mAP50  mAP50-95): 100%|██████████| 1/1 [00:00<00:00,  1.82it/s]"
          ]
        },
        {
          "output_type": "stream",
          "name": "stdout",
          "text": [
            "                   all         18         18      0.611       0.75      0.672      0.403\n"
          ]
        },
        {
          "output_type": "stream",
          "name": "stderr",
          "text": [
            "\n"
          ]
        },
        {
          "output_type": "stream",
          "name": "stdout",
          "text": [
            "\n",
            "      Epoch    GPU_mem   box_loss   cls_loss   dfl_loss  Instances       Size\n"
          ]
        },
        {
          "output_type": "stream",
          "name": "stderr",
          "text": [
            "     26/100      14.9G     0.7011     0.5458      1.106          2        640: 100%|██████████| 14/14 [00:16<00:00,  1.14s/it]\n",
            "                 Class     Images  Instances      Box(P          R      mAP50  mAP50-95): 100%|██████████| 1/1 [00:00<00:00,  1.84it/s]"
          ]
        },
        {
          "output_type": "stream",
          "name": "stdout",
          "text": [
            "                   all         18         18      0.852      0.701      0.774      0.422\n"
          ]
        },
        {
          "output_type": "stream",
          "name": "stderr",
          "text": [
            "\n"
          ]
        },
        {
          "output_type": "stream",
          "name": "stdout",
          "text": [
            "\n",
            "      Epoch    GPU_mem   box_loss   cls_loss   dfl_loss  Instances       Size\n"
          ]
        },
        {
          "output_type": "stream",
          "name": "stderr",
          "text": [
            "     27/100      14.9G     0.6709     0.5274      1.076          2        640: 100%|██████████| 14/14 [00:15<00:00,  1.14s/it]\n",
            "                 Class     Images  Instances      Box(P          R      mAP50  mAP50-95): 100%|██████████| 1/1 [00:00<00:00,  1.64it/s]"
          ]
        },
        {
          "output_type": "stream",
          "name": "stdout",
          "text": [
            "                   all         18         18      0.979          1      0.995      0.794\n"
          ]
        },
        {
          "output_type": "stream",
          "name": "stderr",
          "text": [
            "\n"
          ]
        },
        {
          "output_type": "stream",
          "name": "stdout",
          "text": [
            "\n",
            "      Epoch    GPU_mem   box_loss   cls_loss   dfl_loss  Instances       Size\n"
          ]
        },
        {
          "output_type": "stream",
          "name": "stderr",
          "text": [
            "     28/100      14.9G     0.7036     0.5524      1.092          1        640: 100%|██████████| 14/14 [00:15<00:00,  1.13s/it]\n",
            "                 Class     Images  Instances      Box(P          R      mAP50  mAP50-95): 100%|██████████| 1/1 [00:00<00:00,  1.80it/s]"
          ]
        },
        {
          "output_type": "stream",
          "name": "stdout",
          "text": [
            "                   all         18         18      0.751      0.786      0.835      0.708\n"
          ]
        },
        {
          "output_type": "stream",
          "name": "stderr",
          "text": [
            "\n"
          ]
        },
        {
          "output_type": "stream",
          "name": "stdout",
          "text": [
            "\n",
            "      Epoch    GPU_mem   box_loss   cls_loss   dfl_loss  Instances       Size\n"
          ]
        },
        {
          "output_type": "stream",
          "name": "stderr",
          "text": [
            "     29/100      14.9G     0.6733     0.4847      1.069          1        640: 100%|██████████| 14/14 [00:16<00:00,  1.15s/it]\n",
            "                 Class     Images  Instances      Box(P          R      mAP50  mAP50-95): 100%|██████████| 1/1 [00:00<00:00,  1.43it/s]"
          ]
        },
        {
          "output_type": "stream",
          "name": "stdout",
          "text": [
            "                   all         18         18      0.991          1      0.995      0.923\n"
          ]
        },
        {
          "output_type": "stream",
          "name": "stderr",
          "text": [
            "\n"
          ]
        },
        {
          "output_type": "stream",
          "name": "stdout",
          "text": [
            "\n",
            "      Epoch    GPU_mem   box_loss   cls_loss   dfl_loss  Instances       Size\n"
          ]
        },
        {
          "output_type": "stream",
          "name": "stderr",
          "text": [
            "     30/100      14.9G     0.6447     0.5607      1.098          1        640: 100%|██████████| 14/14 [00:16<00:00,  1.15s/it]\n",
            "                 Class     Images  Instances      Box(P          R      mAP50  mAP50-95): 100%|██████████| 1/1 [00:00<00:00,  1.33it/s]"
          ]
        },
        {
          "output_type": "stream",
          "name": "stdout",
          "text": [
            "                   all         18         18      0.991          1      0.995      0.936\n"
          ]
        },
        {
          "output_type": "stream",
          "name": "stderr",
          "text": [
            "\n"
          ]
        },
        {
          "output_type": "stream",
          "name": "stdout",
          "text": [
            "\n",
            "      Epoch    GPU_mem   box_loss   cls_loss   dfl_loss  Instances       Size\n"
          ]
        },
        {
          "output_type": "stream",
          "name": "stderr",
          "text": [
            "     31/100      14.9G     0.6945     0.5656      1.116          2        640: 100%|██████████| 14/14 [00:15<00:00,  1.13s/it]\n",
            "                 Class     Images  Instances      Box(P          R      mAP50  mAP50-95): 100%|██████████| 1/1 [00:00<00:00,  1.65it/s]"
          ]
        },
        {
          "output_type": "stream",
          "name": "stdout",
          "text": [
            "                   all         18         18      0.991          1      0.995      0.939\n"
          ]
        },
        {
          "output_type": "stream",
          "name": "stderr",
          "text": [
            "\n"
          ]
        },
        {
          "output_type": "stream",
          "name": "stdout",
          "text": [
            "\n",
            "      Epoch    GPU_mem   box_loss   cls_loss   dfl_loss  Instances       Size\n"
          ]
        },
        {
          "output_type": "stream",
          "name": "stderr",
          "text": [
            "     32/100      14.9G     0.6415      0.606       1.07          1        640: 100%|██████████| 14/14 [00:15<00:00,  1.14s/it]\n",
            "                 Class     Images  Instances      Box(P          R      mAP50  mAP50-95): 100%|██████████| 1/1 [00:00<00:00,  1.73it/s]"
          ]
        },
        {
          "output_type": "stream",
          "name": "stdout",
          "text": [
            "                   all         18         18      0.992          1      0.995      0.884\n"
          ]
        },
        {
          "output_type": "stream",
          "name": "stderr",
          "text": [
            "\n"
          ]
        },
        {
          "output_type": "stream",
          "name": "stdout",
          "text": [
            "\n",
            "      Epoch    GPU_mem   box_loss   cls_loss   dfl_loss  Instances       Size\n"
          ]
        },
        {
          "output_type": "stream",
          "name": "stderr",
          "text": [
            "     33/100      14.9G     0.7101     0.4858      1.148          2        640: 100%|██████████| 14/14 [00:16<00:00,  1.16s/it]\n",
            "                 Class     Images  Instances      Box(P          R      mAP50  mAP50-95): 100%|██████████| 1/1 [00:00<00:00,  1.70it/s]"
          ]
        },
        {
          "output_type": "stream",
          "name": "stdout",
          "text": [
            "                   all         18         18      0.987          1      0.995      0.887\n"
          ]
        },
        {
          "output_type": "stream",
          "name": "stderr",
          "text": [
            "\n"
          ]
        },
        {
          "output_type": "stream",
          "name": "stdout",
          "text": [
            "\n",
            "      Epoch    GPU_mem   box_loss   cls_loss   dfl_loss  Instances       Size\n"
          ]
        },
        {
          "output_type": "stream",
          "name": "stderr",
          "text": [
            "     34/100      14.9G     0.6422     0.5082      1.055          1        640: 100%|██████████| 14/14 [00:16<00:00,  1.15s/it]\n",
            "                 Class     Images  Instances      Box(P          R      mAP50  mAP50-95): 100%|██████████| 1/1 [00:00<00:00,  1.47it/s]"
          ]
        },
        {
          "output_type": "stream",
          "name": "stdout",
          "text": [
            "                   all         18         18      0.985          1      0.995      0.929\n"
          ]
        },
        {
          "output_type": "stream",
          "name": "stderr",
          "text": [
            "\n"
          ]
        },
        {
          "output_type": "stream",
          "name": "stdout",
          "text": [
            "\n",
            "      Epoch    GPU_mem   box_loss   cls_loss   dfl_loss  Instances       Size\n"
          ]
        },
        {
          "output_type": "stream",
          "name": "stderr",
          "text": [
            "     35/100      14.9G     0.6256     0.4631      1.038          2        640: 100%|██████████| 14/14 [00:15<00:00,  1.14s/it]\n",
            "                 Class     Images  Instances      Box(P          R      mAP50  mAP50-95): 100%|██████████| 1/1 [00:00<00:00,  1.86it/s]"
          ]
        },
        {
          "output_type": "stream",
          "name": "stdout",
          "text": [
            "                   all         18         18       0.93          1      0.995       0.95\n"
          ]
        },
        {
          "output_type": "stream",
          "name": "stderr",
          "text": [
            "\n"
          ]
        },
        {
          "output_type": "stream",
          "name": "stdout",
          "text": [
            "\n",
            "      Epoch    GPU_mem   box_loss   cls_loss   dfl_loss  Instances       Size\n"
          ]
        },
        {
          "output_type": "stream",
          "name": "stderr",
          "text": [
            "     36/100      14.9G     0.6002      0.458      1.038          2        640: 100%|██████████| 14/14 [00:16<00:00,  1.14s/it]\n",
            "                 Class     Images  Instances      Box(P          R      mAP50  mAP50-95): 100%|██████████| 1/1 [00:00<00:00,  1.69it/s]"
          ]
        },
        {
          "output_type": "stream",
          "name": "stdout",
          "text": [
            "                   all         18         18      0.831      0.883      0.995      0.947\n"
          ]
        },
        {
          "output_type": "stream",
          "name": "stderr",
          "text": [
            "\n"
          ]
        },
        {
          "output_type": "stream",
          "name": "stdout",
          "text": [
            "\n",
            "      Epoch    GPU_mem   box_loss   cls_loss   dfl_loss  Instances       Size\n"
          ]
        },
        {
          "output_type": "stream",
          "name": "stderr",
          "text": [
            "     37/100      14.9G     0.6498     0.4664      1.041          3        640: 100%|██████████| 14/14 [00:16<00:00,  1.15s/it]\n",
            "                 Class     Images  Instances      Box(P          R      mAP50  mAP50-95): 100%|██████████| 1/1 [00:00<00:00,  1.57it/s]"
          ]
        },
        {
          "output_type": "stream",
          "name": "stdout",
          "text": [
            "                   all         18         18      0.889      0.967      0.995      0.927\n"
          ]
        },
        {
          "output_type": "stream",
          "name": "stderr",
          "text": [
            "\n"
          ]
        },
        {
          "output_type": "stream",
          "name": "stdout",
          "text": [
            "\n",
            "      Epoch    GPU_mem   box_loss   cls_loss   dfl_loss  Instances       Size\n"
          ]
        },
        {
          "output_type": "stream",
          "name": "stderr",
          "text": [
            "     38/100      14.9G     0.6231     0.4696      1.048          1        640: 100%|██████████| 14/14 [00:15<00:00,  1.14s/it]\n",
            "                 Class     Images  Instances      Box(P          R      mAP50  mAP50-95): 100%|██████████| 1/1 [00:00<00:00,  1.74it/s]"
          ]
        },
        {
          "output_type": "stream",
          "name": "stdout",
          "text": [
            "                   all         18         18      0.605          1      0.945      0.891\n"
          ]
        },
        {
          "output_type": "stream",
          "name": "stderr",
          "text": [
            "\n"
          ]
        },
        {
          "output_type": "stream",
          "name": "stdout",
          "text": [
            "\n",
            "      Epoch    GPU_mem   box_loss   cls_loss   dfl_loss  Instances       Size\n"
          ]
        },
        {
          "output_type": "stream",
          "name": "stderr",
          "text": [
            "     39/100      14.9G     0.6332     0.4585      1.052          4        640: 100%|██████████| 14/14 [00:16<00:00,  1.14s/it]\n",
            "                 Class     Images  Instances      Box(P          R      mAP50  mAP50-95): 100%|██████████| 1/1 [00:00<00:00,  1.34it/s]"
          ]
        },
        {
          "output_type": "stream",
          "name": "stdout",
          "text": [
            "                   all         18         18      0.995          1      0.995      0.943\n"
          ]
        },
        {
          "output_type": "stream",
          "name": "stderr",
          "text": [
            "\n"
          ]
        },
        {
          "output_type": "stream",
          "name": "stdout",
          "text": [
            "\n",
            "      Epoch    GPU_mem   box_loss   cls_loss   dfl_loss  Instances       Size\n"
          ]
        },
        {
          "output_type": "stream",
          "name": "stderr",
          "text": [
            "     40/100      14.9G     0.6299     0.4623      1.097          2        640: 100%|██████████| 14/14 [00:15<00:00,  1.14s/it]\n",
            "                 Class     Images  Instances      Box(P          R      mAP50  mAP50-95): 100%|██████████| 1/1 [00:00<00:00,  1.81it/s]"
          ]
        },
        {
          "output_type": "stream",
          "name": "stdout",
          "text": [
            "                   all         18         18      0.985          1      0.995      0.958\n"
          ]
        },
        {
          "output_type": "stream",
          "name": "stderr",
          "text": [
            "\n"
          ]
        },
        {
          "output_type": "stream",
          "name": "stdout",
          "text": [
            "\n",
            "      Epoch    GPU_mem   box_loss   cls_loss   dfl_loss  Instances       Size\n"
          ]
        },
        {
          "output_type": "stream",
          "name": "stderr",
          "text": [
            "     41/100      14.9G     0.5812     0.4836      1.025          3        640: 100%|██████████| 14/14 [00:15<00:00,  1.13s/it]\n",
            "                 Class     Images  Instances      Box(P          R      mAP50  mAP50-95): 100%|██████████| 1/1 [00:00<00:00,  1.73it/s]"
          ]
        },
        {
          "output_type": "stream",
          "name": "stdout",
          "text": [
            "                   all         18         18      0.964          1      0.995      0.907\n"
          ]
        },
        {
          "output_type": "stream",
          "name": "stderr",
          "text": [
            "\n"
          ]
        },
        {
          "output_type": "stream",
          "name": "stdout",
          "text": [
            "\n",
            "      Epoch    GPU_mem   box_loss   cls_loss   dfl_loss  Instances       Size\n"
          ]
        },
        {
          "output_type": "stream",
          "name": "stderr",
          "text": [
            "     42/100      14.9G     0.5838     0.4327      1.059          2        640: 100%|██████████| 14/14 [00:16<00:00,  1.20s/it]\n",
            "                 Class     Images  Instances      Box(P          R      mAP50  mAP50-95): 100%|██████████| 1/1 [00:00<00:00,  1.80it/s]"
          ]
        },
        {
          "output_type": "stream",
          "name": "stdout",
          "text": [
            "                   all         18         18      0.974          1      0.995      0.983\n"
          ]
        },
        {
          "output_type": "stream",
          "name": "stderr",
          "text": [
            "\n"
          ]
        },
        {
          "output_type": "stream",
          "name": "stdout",
          "text": [
            "\n",
            "      Epoch    GPU_mem   box_loss   cls_loss   dfl_loss  Instances       Size\n"
          ]
        },
        {
          "output_type": "stream",
          "name": "stderr",
          "text": [
            "     43/100      14.9G     0.5501     0.4381      1.018          3        640: 100%|██████████| 14/14 [00:16<00:00,  1.15s/it]\n",
            "                 Class     Images  Instances      Box(P          R      mAP50  mAP50-95): 100%|██████████| 1/1 [00:00<00:00,  1.56it/s]"
          ]
        },
        {
          "output_type": "stream",
          "name": "stdout",
          "text": [
            "                   all         18         18      0.992          1      0.995      0.931\n"
          ]
        },
        {
          "output_type": "stream",
          "name": "stderr",
          "text": [
            "\n"
          ]
        },
        {
          "output_type": "stream",
          "name": "stdout",
          "text": [
            "\n",
            "      Epoch    GPU_mem   box_loss   cls_loss   dfl_loss  Instances       Size\n"
          ]
        },
        {
          "output_type": "stream",
          "name": "stderr",
          "text": [
            "     44/100      14.9G     0.7337      0.567      1.138          1        640: 100%|██████████| 14/14 [00:16<00:00,  1.15s/it]\n",
            "                 Class     Images  Instances      Box(P          R      mAP50  mAP50-95): 100%|██████████| 1/1 [00:00<00:00,  1.77it/s]"
          ]
        },
        {
          "output_type": "stream",
          "name": "stdout",
          "text": [
            "                   all         18         18      0.991          1      0.995      0.973\n"
          ]
        },
        {
          "output_type": "stream",
          "name": "stderr",
          "text": [
            "\n"
          ]
        },
        {
          "output_type": "stream",
          "name": "stdout",
          "text": [
            "\n",
            "      Epoch    GPU_mem   box_loss   cls_loss   dfl_loss  Instances       Size\n"
          ]
        },
        {
          "output_type": "stream",
          "name": "stderr",
          "text": [
            "     45/100      14.9G     0.5617     0.4248      1.009          2        640: 100%|██████████| 14/14 [00:15<00:00,  1.13s/it]\n",
            "                 Class     Images  Instances      Box(P          R      mAP50  mAP50-95): 100%|██████████| 1/1 [00:00<00:00,  1.62it/s]"
          ]
        },
        {
          "output_type": "stream",
          "name": "stdout",
          "text": [
            "                   all         18         18      0.988          1      0.995      0.949\n"
          ]
        },
        {
          "output_type": "stream",
          "name": "stderr",
          "text": [
            "\n"
          ]
        },
        {
          "output_type": "stream",
          "name": "stdout",
          "text": [
            "\n",
            "      Epoch    GPU_mem   box_loss   cls_loss   dfl_loss  Instances       Size\n"
          ]
        },
        {
          "output_type": "stream",
          "name": "stderr",
          "text": [
            "     46/100      14.9G     0.5526     0.4209       1.01          2        640: 100%|██████████| 14/14 [00:16<00:00,  1.14s/it]\n",
            "                 Class     Images  Instances      Box(P          R      mAP50  mAP50-95): 100%|██████████| 1/1 [00:00<00:00,  1.71it/s]"
          ]
        },
        {
          "output_type": "stream",
          "name": "stdout",
          "text": [
            "                   all         18         18      0.988          1      0.995      0.966\n"
          ]
        },
        {
          "output_type": "stream",
          "name": "stderr",
          "text": [
            "\n"
          ]
        },
        {
          "output_type": "stream",
          "name": "stdout",
          "text": [
            "\n",
            "      Epoch    GPU_mem   box_loss   cls_loss   dfl_loss  Instances       Size\n"
          ]
        },
        {
          "output_type": "stream",
          "name": "stderr",
          "text": [
            "     47/100      14.9G     0.5407     0.4496     0.9964          4        640: 100%|██████████| 14/14 [00:15<00:00,  1.13s/it]\n",
            "                 Class     Images  Instances      Box(P          R      mAP50  mAP50-95): 100%|██████████| 1/1 [00:00<00:00,  1.60it/s]"
          ]
        },
        {
          "output_type": "stream",
          "name": "stdout",
          "text": [
            "                   all         18         18      0.952          1      0.995      0.876\n"
          ]
        },
        {
          "output_type": "stream",
          "name": "stderr",
          "text": [
            "\n"
          ]
        },
        {
          "output_type": "stream",
          "name": "stdout",
          "text": [
            "\n",
            "      Epoch    GPU_mem   box_loss   cls_loss   dfl_loss  Instances       Size\n"
          ]
        },
        {
          "output_type": "stream",
          "name": "stderr",
          "text": [
            "     48/100      14.9G     0.6769     0.4975      1.114          3        640: 100%|██████████| 14/14 [00:16<00:00,  1.14s/it]\n",
            "                 Class     Images  Instances      Box(P          R      mAP50  mAP50-95): 100%|██████████| 1/1 [00:00<00:00,  1.32it/s]"
          ]
        },
        {
          "output_type": "stream",
          "name": "stdout",
          "text": [
            "                   all         18         18      0.906      0.311       0.34      0.151\n"
          ]
        },
        {
          "output_type": "stream",
          "name": "stderr",
          "text": [
            "\n"
          ]
        },
        {
          "output_type": "stream",
          "name": "stdout",
          "text": [
            "\n",
            "      Epoch    GPU_mem   box_loss   cls_loss   dfl_loss  Instances       Size\n"
          ]
        },
        {
          "output_type": "stream",
          "name": "stderr",
          "text": [
            "     49/100      14.9G     0.5692     0.4355      1.008          1        640: 100%|██████████| 14/14 [00:15<00:00,  1.13s/it]\n",
            "                 Class     Images  Instances      Box(P          R      mAP50  mAP50-95): 100%|██████████| 1/1 [00:00<00:00,  1.71it/s]"
          ]
        },
        {
          "output_type": "stream",
          "name": "stdout",
          "text": [
            "                   all         18         18       0.88       0.25      0.281      0.085\n"
          ]
        },
        {
          "output_type": "stream",
          "name": "stderr",
          "text": [
            "\n"
          ]
        },
        {
          "output_type": "stream",
          "name": "stdout",
          "text": [
            "\n",
            "      Epoch    GPU_mem   box_loss   cls_loss   dfl_loss  Instances       Size\n"
          ]
        },
        {
          "output_type": "stream",
          "name": "stderr",
          "text": [
            "     50/100      14.9G     0.5255     0.4325      1.007          4        640: 100%|██████████| 14/14 [00:16<00:00,  1.15s/it]\n",
            "                 Class     Images  Instances      Box(P          R      mAP50  mAP50-95): 100%|██████████| 1/1 [00:00<00:00,  1.85it/s]"
          ]
        },
        {
          "output_type": "stream",
          "name": "stdout",
          "text": [
            "                   all         18         18      0.986          1      0.995      0.923\n"
          ]
        },
        {
          "output_type": "stream",
          "name": "stderr",
          "text": [
            "\n"
          ]
        },
        {
          "output_type": "stream",
          "name": "stdout",
          "text": [
            "\n",
            "      Epoch    GPU_mem   box_loss   cls_loss   dfl_loss  Instances       Size\n"
          ]
        },
        {
          "output_type": "stream",
          "name": "stderr",
          "text": [
            "     51/100      14.9G     0.5901     0.4885      1.134          1        640: 100%|██████████| 14/14 [00:15<00:00,  1.13s/it]\n",
            "                 Class     Images  Instances      Box(P          R      mAP50  mAP50-95): 100%|██████████| 1/1 [00:00<00:00,  1.51it/s]"
          ]
        },
        {
          "output_type": "stream",
          "name": "stdout",
          "text": [
            "                   all         18         18      0.971          1      0.995      0.959\n"
          ]
        },
        {
          "output_type": "stream",
          "name": "stderr",
          "text": [
            "\n"
          ]
        },
        {
          "output_type": "stream",
          "name": "stdout",
          "text": [
            "\n",
            "      Epoch    GPU_mem   box_loss   cls_loss   dfl_loss  Instances       Size\n"
          ]
        },
        {
          "output_type": "stream",
          "name": "stderr",
          "text": [
            "     52/100      14.9G     0.5641     0.4221      1.018          1        640: 100%|██████████| 14/14 [00:15<00:00,  1.13s/it]\n",
            "                 Class     Images  Instances      Box(P          R      mAP50  mAP50-95): 100%|██████████| 1/1 [00:00<00:00,  1.85it/s]"
          ]
        },
        {
          "output_type": "stream",
          "name": "stdout",
          "text": [
            "                   all         18         18      0.583      0.625      0.721      0.522\n"
          ]
        },
        {
          "output_type": "stream",
          "name": "stderr",
          "text": [
            "\n"
          ]
        },
        {
          "output_type": "stream",
          "name": "stdout",
          "text": [
            "\n",
            "      Epoch    GPU_mem   box_loss   cls_loss   dfl_loss  Instances       Size\n"
          ]
        },
        {
          "output_type": "stream",
          "name": "stderr",
          "text": [
            "     53/100      14.9G       0.53     0.4427     0.9901          2        640: 100%|██████████| 14/14 [00:16<00:00,  1.14s/it]\n",
            "                 Class     Images  Instances      Box(P          R      mAP50  mAP50-95): 100%|██████████| 1/1 [00:00<00:00,  1.82it/s]"
          ]
        },
        {
          "output_type": "stream",
          "name": "stdout",
          "text": [
            "                   all         18         18      0.983          1      0.995      0.971\n"
          ]
        },
        {
          "output_type": "stream",
          "name": "stderr",
          "text": [
            "\n"
          ]
        },
        {
          "output_type": "stream",
          "name": "stdout",
          "text": [
            "\n",
            "      Epoch    GPU_mem   box_loss   cls_loss   dfl_loss  Instances       Size\n"
          ]
        },
        {
          "output_type": "stream",
          "name": "stderr",
          "text": [
            "     54/100      14.9G     0.5554     0.4528       1.03          1        640: 100%|██████████| 14/14 [00:15<00:00,  1.14s/it]\n",
            "                 Class     Images  Instances      Box(P          R      mAP50  mAP50-95): 100%|██████████| 1/1 [00:00<00:00,  1.73it/s]"
          ]
        },
        {
          "output_type": "stream",
          "name": "stdout",
          "text": [
            "                   all         18         18      0.993          1      0.995      0.978\n"
          ]
        },
        {
          "output_type": "stream",
          "name": "stderr",
          "text": [
            "\n"
          ]
        },
        {
          "output_type": "stream",
          "name": "stdout",
          "text": [
            "\n",
            "      Epoch    GPU_mem   box_loss   cls_loss   dfl_loss  Instances       Size\n"
          ]
        },
        {
          "output_type": "stream",
          "name": "stderr",
          "text": [
            "     55/100      14.9G     0.5175     0.4328      1.012          1        640: 100%|██████████| 14/14 [00:16<00:00,  1.15s/it]\n",
            "                 Class     Images  Instances      Box(P          R      mAP50  mAP50-95): 100%|██████████| 1/1 [00:00<00:00,  1.24it/s]"
          ]
        },
        {
          "output_type": "stream",
          "name": "stdout",
          "text": [
            "                   all         18         18      0.883          1      0.945      0.934\n"
          ]
        },
        {
          "output_type": "stream",
          "name": "stderr",
          "text": [
            "\n"
          ]
        },
        {
          "output_type": "stream",
          "name": "stdout",
          "text": [
            "\n",
            "      Epoch    GPU_mem   box_loss   cls_loss   dfl_loss  Instances       Size\n"
          ]
        },
        {
          "output_type": "stream",
          "name": "stderr",
          "text": [
            "     56/100      14.9G     0.5081     0.3991     0.9965          3        640: 100%|██████████| 14/14 [00:16<00:00,  1.15s/it]\n",
            "                 Class     Images  Instances      Box(P          R      mAP50  mAP50-95): 100%|██████████| 1/1 [00:00<00:00,  1.84it/s]"
          ]
        },
        {
          "output_type": "stream",
          "name": "stdout",
          "text": [
            "                   all         18         18      0.609      0.991      0.651      0.627\n"
          ]
        },
        {
          "output_type": "stream",
          "name": "stderr",
          "text": [
            "\n"
          ]
        },
        {
          "output_type": "stream",
          "name": "stdout",
          "text": [
            "\n",
            "      Epoch    GPU_mem   box_loss   cls_loss   dfl_loss  Instances       Size\n"
          ]
        },
        {
          "output_type": "stream",
          "name": "stderr",
          "text": [
            "     57/100      14.9G     0.4598      0.362     0.9712          2        640: 100%|██████████| 14/14 [00:16<00:00,  1.15s/it]\n",
            "                 Class     Images  Instances      Box(P          R      mAP50  mAP50-95): 100%|██████████| 1/1 [00:00<00:00,  1.25it/s]"
          ]
        },
        {
          "output_type": "stream",
          "name": "stdout",
          "text": [
            "                   all         18         18       0.98          1      0.995      0.824\n"
          ]
        },
        {
          "output_type": "stream",
          "name": "stderr",
          "text": [
            "\n"
          ]
        },
        {
          "output_type": "stream",
          "name": "stdout",
          "text": [
            "\n",
            "      Epoch    GPU_mem   box_loss   cls_loss   dfl_loss  Instances       Size\n"
          ]
        },
        {
          "output_type": "stream",
          "name": "stderr",
          "text": [
            "     58/100      14.9G     0.5236     0.3881      1.016          2        640: 100%|██████████| 14/14 [00:16<00:00,  1.14s/it]\n",
            "                 Class     Images  Instances      Box(P          R      mAP50  mAP50-95): 100%|██████████| 1/1 [00:00<00:00,  1.84it/s]"
          ]
        },
        {
          "output_type": "stream",
          "name": "stdout",
          "text": [
            "                   all         18         18      0.974          1      0.995      0.842\n"
          ]
        },
        {
          "output_type": "stream",
          "name": "stderr",
          "text": [
            "\n"
          ]
        },
        {
          "output_type": "stream",
          "name": "stdout",
          "text": [
            "\n",
            "      Epoch    GPU_mem   box_loss   cls_loss   dfl_loss  Instances       Size\n"
          ]
        },
        {
          "output_type": "stream",
          "name": "stderr",
          "text": [
            "     59/100      14.9G     0.4605     0.3736     0.9803          1        640: 100%|██████████| 14/14 [00:15<00:00,  1.13s/it]\n",
            "                 Class     Images  Instances      Box(P          R      mAP50  mAP50-95): 100%|██████████| 1/1 [00:00<00:00,  1.67it/s]"
          ]
        },
        {
          "output_type": "stream",
          "name": "stdout",
          "text": [
            "                   all         18         18      0.961          1      0.995      0.972\n"
          ]
        },
        {
          "output_type": "stream",
          "name": "stderr",
          "text": [
            "\n"
          ]
        },
        {
          "output_type": "stream",
          "name": "stdout",
          "text": [
            "\n",
            "      Epoch    GPU_mem   box_loss   cls_loss   dfl_loss  Instances       Size\n"
          ]
        },
        {
          "output_type": "stream",
          "name": "stderr",
          "text": [
            "     60/100      14.9G      0.509     0.3847     0.9887          3        640: 100%|██████████| 14/14 [00:16<00:00,  1.15s/it]\n",
            "                 Class     Images  Instances      Box(P          R      mAP50  mAP50-95): 100%|██████████| 1/1 [00:00<00:00,  1.53it/s]"
          ]
        },
        {
          "output_type": "stream",
          "name": "stdout",
          "text": [
            "                   all         18         18      0.994          1      0.995      0.978\n"
          ]
        },
        {
          "output_type": "stream",
          "name": "stderr",
          "text": [
            "\n"
          ]
        },
        {
          "output_type": "stream",
          "name": "stdout",
          "text": [
            "\n",
            "      Epoch    GPU_mem   box_loss   cls_loss   dfl_loss  Instances       Size\n"
          ]
        },
        {
          "output_type": "stream",
          "name": "stderr",
          "text": [
            "     61/100      14.9G      0.495     0.3788     0.9849          3        640: 100%|██████████| 14/14 [00:15<00:00,  1.14s/it]\n",
            "                 Class     Images  Instances      Box(P          R      mAP50  mAP50-95): 100%|██████████| 1/1 [00:00<00:00,  1.83it/s]"
          ]
        },
        {
          "output_type": "stream",
          "name": "stdout",
          "text": [
            "                   all         18         18      0.994          1      0.995      0.985\n"
          ]
        },
        {
          "output_type": "stream",
          "name": "stderr",
          "text": [
            "\n"
          ]
        },
        {
          "output_type": "stream",
          "name": "stdout",
          "text": [
            "\n",
            "      Epoch    GPU_mem   box_loss   cls_loss   dfl_loss  Instances       Size\n"
          ]
        },
        {
          "output_type": "stream",
          "name": "stderr",
          "text": [
            "     62/100      14.9G     0.5093     0.4015      1.093          1        640: 100%|██████████| 14/14 [00:16<00:00,  1.15s/it]\n",
            "                 Class     Images  Instances      Box(P          R      mAP50  mAP50-95): 100%|██████████| 1/1 [00:00<00:00,  1.71it/s]"
          ]
        },
        {
          "output_type": "stream",
          "name": "stdout",
          "text": [
            "                   all         18         18      0.994          1      0.995       0.98\n"
          ]
        },
        {
          "output_type": "stream",
          "name": "stderr",
          "text": [
            "\n"
          ]
        },
        {
          "output_type": "stream",
          "name": "stdout",
          "text": [
            "\n",
            "      Epoch    GPU_mem   box_loss   cls_loss   dfl_loss  Instances       Size\n"
          ]
        },
        {
          "output_type": "stream",
          "name": "stderr",
          "text": [
            "     63/100      14.9G     0.5019     0.3727     0.9752          2        640: 100%|██████████| 14/14 [00:16<00:00,  1.15s/it]\n",
            "                 Class     Images  Instances      Box(P          R      mAP50  mAP50-95): 100%|██████████| 1/1 [00:00<00:00,  1.76it/s]"
          ]
        },
        {
          "output_type": "stream",
          "name": "stdout",
          "text": [
            "                   all         18         18      0.993          1      0.995      0.972\n"
          ]
        },
        {
          "output_type": "stream",
          "name": "stderr",
          "text": [
            "\n"
          ]
        },
        {
          "output_type": "stream",
          "name": "stdout",
          "text": [
            "\n",
            "      Epoch    GPU_mem   box_loss   cls_loss   dfl_loss  Instances       Size\n"
          ]
        },
        {
          "output_type": "stream",
          "name": "stderr",
          "text": [
            "     64/100      14.9G     0.4516     0.3695      0.958          4        640: 100%|██████████| 14/14 [00:16<00:00,  1.16s/it]\n",
            "                 Class     Images  Instances      Box(P          R      mAP50  mAP50-95): 100%|██████████| 1/1 [00:00<00:00,  1.78it/s]"
          ]
        },
        {
          "output_type": "stream",
          "name": "stdout",
          "text": [
            "                   all         18         18      0.989          1      0.995      0.973\n"
          ]
        },
        {
          "output_type": "stream",
          "name": "stderr",
          "text": [
            "\n"
          ]
        },
        {
          "output_type": "stream",
          "name": "stdout",
          "text": [
            "\n",
            "      Epoch    GPU_mem   box_loss   cls_loss   dfl_loss  Instances       Size\n"
          ]
        },
        {
          "output_type": "stream",
          "name": "stderr",
          "text": [
            "     65/100      14.9G     0.5858     0.4298     0.9996          1        640: 100%|██████████| 14/14 [00:15<00:00,  1.14s/it]\n",
            "                 Class     Images  Instances      Box(P          R      mAP50  mAP50-95): 100%|██████████| 1/1 [00:00<00:00,  1.27it/s]"
          ]
        },
        {
          "output_type": "stream",
          "name": "stdout",
          "text": [
            "                   all         18         18      0.985          1      0.995      0.977\n"
          ]
        },
        {
          "output_type": "stream",
          "name": "stderr",
          "text": [
            "\n"
          ]
        },
        {
          "output_type": "stream",
          "name": "stdout",
          "text": [
            "\n",
            "      Epoch    GPU_mem   box_loss   cls_loss   dfl_loss  Instances       Size\n"
          ]
        },
        {
          "output_type": "stream",
          "name": "stderr",
          "text": [
            "     66/100      14.9G     0.4651     0.3447     0.9622          2        640: 100%|██████████| 14/14 [00:16<00:00,  1.17s/it]\n",
            "                 Class     Images  Instances      Box(P          R      mAP50  mAP50-95): 100%|██████████| 1/1 [00:00<00:00,  1.30it/s]"
          ]
        },
        {
          "output_type": "stream",
          "name": "stdout",
          "text": [
            "                   all         18         18      0.986          1      0.995      0.981\n"
          ]
        },
        {
          "output_type": "stream",
          "name": "stderr",
          "text": [
            "\n"
          ]
        },
        {
          "output_type": "stream",
          "name": "stdout",
          "text": [
            "\n",
            "      Epoch    GPU_mem   box_loss   cls_loss   dfl_loss  Instances       Size\n"
          ]
        },
        {
          "output_type": "stream",
          "name": "stderr",
          "text": [
            "     67/100      14.9G     0.5197     0.4078      1.051          1        640: 100%|██████████| 14/14 [00:16<00:00,  1.16s/it]\n",
            "                 Class     Images  Instances      Box(P          R      mAP50  mAP50-95): 100%|██████████| 1/1 [00:00<00:00,  1.82it/s]"
          ]
        },
        {
          "output_type": "stream",
          "name": "stdout",
          "text": [
            "                   all         18         18       0.99          1      0.995      0.986\n"
          ]
        },
        {
          "output_type": "stream",
          "name": "stderr",
          "text": [
            "\n"
          ]
        },
        {
          "output_type": "stream",
          "name": "stdout",
          "text": [
            "\n",
            "      Epoch    GPU_mem   box_loss   cls_loss   dfl_loss  Instances       Size\n"
          ]
        },
        {
          "output_type": "stream",
          "name": "stderr",
          "text": [
            "     68/100      14.9G     0.4328     0.3798     0.9505          1        640: 100%|██████████| 14/14 [00:16<00:00,  1.15s/it]\n",
            "                 Class     Images  Instances      Box(P          R      mAP50  mAP50-95): 100%|██████████| 1/1 [00:00<00:00,  1.80it/s]"
          ]
        },
        {
          "output_type": "stream",
          "name": "stdout",
          "text": [
            "                   all         18         18      0.992          1      0.995      0.991\n"
          ]
        },
        {
          "output_type": "stream",
          "name": "stderr",
          "text": [
            "\n"
          ]
        },
        {
          "output_type": "stream",
          "name": "stdout",
          "text": [
            "\n",
            "      Epoch    GPU_mem   box_loss   cls_loss   dfl_loss  Instances       Size\n"
          ]
        },
        {
          "output_type": "stream",
          "name": "stderr",
          "text": [
            "     69/100      14.9G     0.4412     0.3447      0.996          1        640: 100%|██████████| 14/14 [00:16<00:00,  1.15s/it]\n",
            "                 Class     Images  Instances      Box(P          R      mAP50  mAP50-95): 100%|██████████| 1/1 [00:00<00:00,  1.66it/s]"
          ]
        },
        {
          "output_type": "stream",
          "name": "stdout",
          "text": [
            "                   all         18         18      0.993          1      0.995      0.982\n"
          ]
        },
        {
          "output_type": "stream",
          "name": "stderr",
          "text": [
            "\n"
          ]
        },
        {
          "output_type": "stream",
          "name": "stdout",
          "text": [
            "\n",
            "      Epoch    GPU_mem   box_loss   cls_loss   dfl_loss  Instances       Size\n"
          ]
        },
        {
          "output_type": "stream",
          "name": "stderr",
          "text": [
            "     70/100      14.9G     0.4639     0.3676     0.9924          3        640: 100%|██████████| 14/14 [00:15<00:00,  1.14s/it]\n",
            "                 Class     Images  Instances      Box(P          R      mAP50  mAP50-95): 100%|██████████| 1/1 [00:00<00:00,  1.53it/s]"
          ]
        },
        {
          "output_type": "stream",
          "name": "stdout",
          "text": [
            "                   all         18         18      0.991          1      0.995       0.98\n"
          ]
        },
        {
          "output_type": "stream",
          "name": "stderr",
          "text": [
            "\n"
          ]
        },
        {
          "output_type": "stream",
          "name": "stdout",
          "text": [
            "\n",
            "      Epoch    GPU_mem   box_loss   cls_loss   dfl_loss  Instances       Size\n"
          ]
        },
        {
          "output_type": "stream",
          "name": "stderr",
          "text": [
            "     71/100      14.9G     0.4484     0.3521     0.9509          4        640: 100%|██████████| 14/14 [00:15<00:00,  1.13s/it]\n",
            "                 Class     Images  Instances      Box(P          R      mAP50  mAP50-95): 100%|██████████| 1/1 [00:00<00:00,  1.69it/s]"
          ]
        },
        {
          "output_type": "stream",
          "name": "stdout",
          "text": [
            "                   all         18         18       0.99          1      0.995      0.983\n"
          ]
        },
        {
          "output_type": "stream",
          "name": "stderr",
          "text": [
            "\n"
          ]
        },
        {
          "output_type": "stream",
          "name": "stdout",
          "text": [
            "\n",
            "      Epoch    GPU_mem   box_loss   cls_loss   dfl_loss  Instances       Size\n"
          ]
        },
        {
          "output_type": "stream",
          "name": "stderr",
          "text": [
            "     72/100      14.9G     0.4469     0.3609     0.9853          2        640: 100%|██████████| 14/14 [00:16<00:00,  1.15s/it]\n",
            "                 Class     Images  Instances      Box(P          R      mAP50  mAP50-95): 100%|██████████| 1/1 [00:00<00:00,  1.71it/s]"
          ]
        },
        {
          "output_type": "stream",
          "name": "stdout",
          "text": [
            "                   all         18         18      0.994          1      0.995      0.946\n"
          ]
        },
        {
          "output_type": "stream",
          "name": "stderr",
          "text": [
            "\n"
          ]
        },
        {
          "output_type": "stream",
          "name": "stdout",
          "text": [
            "\n",
            "      Epoch    GPU_mem   box_loss   cls_loss   dfl_loss  Instances       Size\n"
          ]
        },
        {
          "output_type": "stream",
          "name": "stderr",
          "text": [
            "     73/100      14.9G     0.4701     0.3577     0.9645          4        640: 100%|██████████| 14/14 [00:15<00:00,  1.14s/it]\n",
            "                 Class     Images  Instances      Box(P          R      mAP50  mAP50-95): 100%|██████████| 1/1 [00:00<00:00,  1.78it/s]"
          ]
        },
        {
          "output_type": "stream",
          "name": "stdout",
          "text": [
            "                   all         18         18      0.994          1      0.995      0.967\n"
          ]
        },
        {
          "output_type": "stream",
          "name": "stderr",
          "text": [
            "\n"
          ]
        },
        {
          "output_type": "stream",
          "name": "stdout",
          "text": [
            "\n",
            "      Epoch    GPU_mem   box_loss   cls_loss   dfl_loss  Instances       Size\n"
          ]
        },
        {
          "output_type": "stream",
          "name": "stderr",
          "text": [
            "     74/100      14.9G     0.4333     0.3236     0.9563          2        640: 100%|██████████| 14/14 [00:15<00:00,  1.14s/it]\n",
            "                 Class     Images  Instances      Box(P          R      mAP50  mAP50-95): 100%|██████████| 1/1 [00:00<00:00,  1.86it/s]"
          ]
        },
        {
          "output_type": "stream",
          "name": "stdout",
          "text": [
            "                   all         18         18      0.995          1      0.995      0.981\n"
          ]
        },
        {
          "output_type": "stream",
          "name": "stderr",
          "text": [
            "\n"
          ]
        },
        {
          "output_type": "stream",
          "name": "stdout",
          "text": [
            "\n",
            "      Epoch    GPU_mem   box_loss   cls_loss   dfl_loss  Instances       Size\n"
          ]
        },
        {
          "output_type": "stream",
          "name": "stderr",
          "text": [
            "     75/100      14.9G     0.4613      0.355     0.9825          3        640: 100%|██████████| 14/14 [00:15<00:00,  1.14s/it]\n",
            "                 Class     Images  Instances      Box(P          R      mAP50  mAP50-95): 100%|██████████| 1/1 [00:00<00:00,  1.48it/s]"
          ]
        },
        {
          "output_type": "stream",
          "name": "stdout",
          "text": [
            "                   all         18         18      0.995          1      0.995      0.961\n"
          ]
        },
        {
          "output_type": "stream",
          "name": "stderr",
          "text": [
            "\n"
          ]
        },
        {
          "output_type": "stream",
          "name": "stdout",
          "text": [
            "\n",
            "      Epoch    GPU_mem   box_loss   cls_loss   dfl_loss  Instances       Size\n"
          ]
        },
        {
          "output_type": "stream",
          "name": "stderr",
          "text": [
            "     76/100      14.9G     0.4665     0.3783      1.004          1        640: 100%|██████████| 14/14 [00:16<00:00,  1.14s/it]\n",
            "                 Class     Images  Instances      Box(P          R      mAP50  mAP50-95): 100%|██████████| 1/1 [00:00<00:00,  1.69it/s]"
          ]
        },
        {
          "output_type": "stream",
          "name": "stdout",
          "text": [
            "                   all         18         18      0.994          1      0.995      0.936\n"
          ]
        },
        {
          "output_type": "stream",
          "name": "stderr",
          "text": [
            "\n"
          ]
        },
        {
          "output_type": "stream",
          "name": "stdout",
          "text": [
            "\n",
            "      Epoch    GPU_mem   box_loss   cls_loss   dfl_loss  Instances       Size\n"
          ]
        },
        {
          "output_type": "stream",
          "name": "stderr",
          "text": [
            "     77/100      14.9G     0.4505     0.3464     0.9575          2        640: 100%|██████████| 14/14 [00:15<00:00,  1.14s/it]\n",
            "                 Class     Images  Instances      Box(P          R      mAP50  mAP50-95): 100%|██████████| 1/1 [00:00<00:00,  1.80it/s]"
          ]
        },
        {
          "output_type": "stream",
          "name": "stdout",
          "text": [
            "                   all         18         18      0.991          1      0.995      0.969\n"
          ]
        },
        {
          "output_type": "stream",
          "name": "stderr",
          "text": [
            "\n"
          ]
        },
        {
          "output_type": "stream",
          "name": "stdout",
          "text": [
            "\n",
            "      Epoch    GPU_mem   box_loss   cls_loss   dfl_loss  Instances       Size\n"
          ]
        },
        {
          "output_type": "stream",
          "name": "stderr",
          "text": [
            "     78/100      14.9G     0.4401     0.3397     0.9481          1        640: 100%|██████████| 14/14 [00:16<00:00,  1.15s/it]\n",
            "                 Class     Images  Instances      Box(P          R      mAP50  mAP50-95): 100%|██████████| 1/1 [00:00<00:00,  1.48it/s]"
          ]
        },
        {
          "output_type": "stream",
          "name": "stdout",
          "text": [
            "                   all         18         18      0.991          1      0.995      0.956\n"
          ]
        },
        {
          "output_type": "stream",
          "name": "stderr",
          "text": [
            "\n"
          ]
        },
        {
          "output_type": "stream",
          "name": "stdout",
          "text": [
            "\n",
            "      Epoch    GPU_mem   box_loss   cls_loss   dfl_loss  Instances       Size\n"
          ]
        },
        {
          "output_type": "stream",
          "name": "stderr",
          "text": [
            "     79/100      14.9G     0.4034     0.3262     0.9736          1        640: 100%|██████████| 14/14 [00:16<00:00,  1.15s/it]\n",
            "                 Class     Images  Instances      Box(P          R      mAP50  mAP50-95): 100%|██████████| 1/1 [00:00<00:00,  1.80it/s]"
          ]
        },
        {
          "output_type": "stream",
          "name": "stdout",
          "text": [
            "                   all         18         18      0.989          1      0.995      0.959\n"
          ]
        },
        {
          "output_type": "stream",
          "name": "stderr",
          "text": [
            "\n"
          ]
        },
        {
          "output_type": "stream",
          "name": "stdout",
          "text": [
            "\n",
            "      Epoch    GPU_mem   box_loss   cls_loss   dfl_loss  Instances       Size\n"
          ]
        },
        {
          "output_type": "stream",
          "name": "stderr",
          "text": [
            "     80/100      14.9G     0.4177     0.3097     0.9457          4        640: 100%|██████████| 14/14 [00:15<00:00,  1.14s/it]\n",
            "                 Class     Images  Instances      Box(P          R      mAP50  mAP50-95): 100%|██████████| 1/1 [00:00<00:00,  1.76it/s]"
          ]
        },
        {
          "output_type": "stream",
          "name": "stdout",
          "text": [
            "                   all         18         18      0.994          1      0.995      0.984\n"
          ]
        },
        {
          "output_type": "stream",
          "name": "stderr",
          "text": [
            "\n"
          ]
        },
        {
          "output_type": "stream",
          "name": "stdout",
          "text": [
            "\n",
            "      Epoch    GPU_mem   box_loss   cls_loss   dfl_loss  Instances       Size\n"
          ]
        },
        {
          "output_type": "stream",
          "name": "stderr",
          "text": [
            "     81/100      14.9G     0.4463     0.3362     0.9885          4        640: 100%|██████████| 14/14 [00:16<00:00,  1.16s/it]\n",
            "                 Class     Images  Instances      Box(P          R      mAP50  mAP50-95): 100%|██████████| 1/1 [00:00<00:00,  1.83it/s]"
          ]
        },
        {
          "output_type": "stream",
          "name": "stdout",
          "text": [
            "                   all         18         18      0.994          1      0.995      0.995\n"
          ]
        },
        {
          "output_type": "stream",
          "name": "stderr",
          "text": [
            "\n"
          ]
        },
        {
          "output_type": "stream",
          "name": "stdout",
          "text": [
            "\n",
            "      Epoch    GPU_mem   box_loss   cls_loss   dfl_loss  Instances       Size\n"
          ]
        },
        {
          "output_type": "stream",
          "name": "stderr",
          "text": [
            "     82/100      14.9G     0.4085     0.3319     0.9369          1        640: 100%|██████████| 14/14 [00:15<00:00,  1.14s/it]\n",
            "                 Class     Images  Instances      Box(P          R      mAP50  mAP50-95): 100%|██████████| 1/1 [00:00<00:00,  1.83it/s]"
          ]
        },
        {
          "output_type": "stream",
          "name": "stdout",
          "text": [
            "                   all         18         18      0.994          1      0.995      0.984\n"
          ]
        },
        {
          "output_type": "stream",
          "name": "stderr",
          "text": [
            "\n"
          ]
        },
        {
          "output_type": "stream",
          "name": "stdout",
          "text": [
            "\n",
            "      Epoch    GPU_mem   box_loss   cls_loss   dfl_loss  Instances       Size\n"
          ]
        },
        {
          "output_type": "stream",
          "name": "stderr",
          "text": [
            "     83/100      14.9G     0.4418     0.3367     0.9821          1        640: 100%|██████████| 14/14 [00:16<00:00,  1.16s/it]\n",
            "                 Class     Images  Instances      Box(P          R      mAP50  mAP50-95): 100%|██████████| 1/1 [00:00<00:00,  1.32it/s]"
          ]
        },
        {
          "output_type": "stream",
          "name": "stdout",
          "text": [
            "                   all         18         18      0.994          1      0.995       0.99\n"
          ]
        },
        {
          "output_type": "stream",
          "name": "stderr",
          "text": [
            "\n"
          ]
        },
        {
          "output_type": "stream",
          "name": "stdout",
          "text": [
            "\n",
            "      Epoch    GPU_mem   box_loss   cls_loss   dfl_loss  Instances       Size\n"
          ]
        },
        {
          "output_type": "stream",
          "name": "stderr",
          "text": [
            "     84/100      14.9G     0.4944     0.3614      1.066          1        640: 100%|██████████| 14/14 [00:16<00:00,  1.17s/it]\n",
            "                 Class     Images  Instances      Box(P          R      mAP50  mAP50-95): 100%|██████████| 1/1 [00:00<00:00,  1.81it/s]"
          ]
        },
        {
          "output_type": "stream",
          "name": "stdout",
          "text": [
            "                   all         18         18      0.992          1      0.995      0.962\n"
          ]
        },
        {
          "output_type": "stream",
          "name": "stderr",
          "text": [
            "\n"
          ]
        },
        {
          "output_type": "stream",
          "name": "stdout",
          "text": [
            "\n",
            "      Epoch    GPU_mem   box_loss   cls_loss   dfl_loss  Instances       Size\n"
          ]
        },
        {
          "output_type": "stream",
          "name": "stderr",
          "text": [
            "     85/100      14.9G     0.4394      0.405     0.9921          1        640: 100%|██████████| 14/14 [00:15<00:00,  1.13s/it]\n",
            "                 Class     Images  Instances      Box(P          R      mAP50  mAP50-95): 100%|██████████| 1/1 [00:00<00:00,  1.33it/s]"
          ]
        },
        {
          "output_type": "stream",
          "name": "stdout",
          "text": [
            "                   all         18         18      0.994          1      0.995      0.984\n"
          ]
        },
        {
          "output_type": "stream",
          "name": "stderr",
          "text": [
            "\n"
          ]
        },
        {
          "output_type": "stream",
          "name": "stdout",
          "text": [
            "\n",
            "      Epoch    GPU_mem   box_loss   cls_loss   dfl_loss  Instances       Size\n"
          ]
        },
        {
          "output_type": "stream",
          "name": "stderr",
          "text": [
            "     86/100      14.9G     0.3879     0.3415     0.9473          4        640: 100%|██████████| 14/14 [00:15<00:00,  1.14s/it]\n",
            "                 Class     Images  Instances      Box(P          R      mAP50  mAP50-95): 100%|██████████| 1/1 [00:00<00:00,  1.07it/s]"
          ]
        },
        {
          "output_type": "stream",
          "name": "stdout",
          "text": [
            "                   all         18         18      0.994          1      0.995      0.978\n"
          ]
        },
        {
          "output_type": "stream",
          "name": "stderr",
          "text": [
            "\n"
          ]
        },
        {
          "output_type": "stream",
          "name": "stdout",
          "text": [
            "\n",
            "      Epoch    GPU_mem   box_loss   cls_loss   dfl_loss  Instances       Size\n"
          ]
        },
        {
          "output_type": "stream",
          "name": "stderr",
          "text": [
            "     87/100      14.9G     0.4118     0.3106     0.9605          3        640: 100%|██████████| 14/14 [00:16<00:00,  1.16s/it]\n",
            "                 Class     Images  Instances      Box(P          R      mAP50  mAP50-95): 100%|██████████| 1/1 [00:00<00:00,  1.76it/s]"
          ]
        },
        {
          "output_type": "stream",
          "name": "stdout",
          "text": [
            "                   all         18         18      0.994          1      0.995      0.987\n"
          ]
        },
        {
          "output_type": "stream",
          "name": "stderr",
          "text": [
            "\n"
          ]
        },
        {
          "output_type": "stream",
          "name": "stdout",
          "text": [
            "\n",
            "      Epoch    GPU_mem   box_loss   cls_loss   dfl_loss  Instances       Size\n"
          ]
        },
        {
          "output_type": "stream",
          "name": "stderr",
          "text": [
            "     88/100      14.9G     0.3937     0.3028     0.9685          2        640: 100%|██████████| 14/14 [00:16<00:00,  1.15s/it]\n",
            "                 Class     Images  Instances      Box(P          R      mAP50  mAP50-95): 100%|██████████| 1/1 [00:00<00:00,  1.65it/s]"
          ]
        },
        {
          "output_type": "stream",
          "name": "stdout",
          "text": [
            "                   all         18         18      0.995          1      0.995      0.979\n"
          ]
        },
        {
          "output_type": "stream",
          "name": "stderr",
          "text": [
            "\n"
          ]
        },
        {
          "output_type": "stream",
          "name": "stdout",
          "text": [
            "\n",
            "      Epoch    GPU_mem   box_loss   cls_loss   dfl_loss  Instances       Size\n"
          ]
        },
        {
          "output_type": "stream",
          "name": "stderr",
          "text": [
            "     89/100      14.9G     0.5084     0.3745      1.122          1        640: 100%|██████████| 14/14 [00:16<00:00,  1.14s/it]\n",
            "                 Class     Images  Instances      Box(P          R      mAP50  mAP50-95): 100%|██████████| 1/1 [00:00<00:00,  1.80it/s]"
          ]
        },
        {
          "output_type": "stream",
          "name": "stdout",
          "text": [
            "                   all         18         18      0.992          1      0.995      0.995\n"
          ]
        },
        {
          "output_type": "stream",
          "name": "stderr",
          "text": [
            "\n"
          ]
        },
        {
          "output_type": "stream",
          "name": "stdout",
          "text": [
            "\n",
            "      Epoch    GPU_mem   box_loss   cls_loss   dfl_loss  Instances       Size\n"
          ]
        },
        {
          "output_type": "stream",
          "name": "stderr",
          "text": [
            "     90/100      14.9G     0.3676     0.2943      0.924          4        640: 100%|██████████| 14/14 [00:15<00:00,  1.14s/it]\n",
            "                 Class     Images  Instances      Box(P          R      mAP50  mAP50-95): 100%|██████████| 1/1 [00:00<00:00,  1.78it/s]"
          ]
        },
        {
          "output_type": "stream",
          "name": "stdout",
          "text": [
            "                   all         18         18      0.992          1      0.995      0.976\n"
          ]
        },
        {
          "output_type": "stream",
          "name": "stderr",
          "text": [
            "\n"
          ]
        },
        {
          "output_type": "stream",
          "name": "stdout",
          "text": [
            "Closing dataloader mosaic\n",
            "\u001b[34m\u001b[1malbumentations: \u001b[0mBlur(p=0.01, blur_limit=(3, 7)), MedianBlur(p=0.01, blur_limit=(3, 7)), ToGray(p=0.01), CLAHE(p=0.01, clip_limit=(1, 4.0), tile_grid_size=(8, 8))\n",
            "\n",
            "      Epoch    GPU_mem   box_loss   cls_loss   dfl_loss  Instances       Size\n"
          ]
        },
        {
          "output_type": "stream",
          "name": "stderr",
          "text": [
            "     91/100      14.9G     0.2422       0.23     0.8598          1        640: 100%|██████████| 14/14 [00:17<00:00,  1.25s/it]\n",
            "                 Class     Images  Instances      Box(P          R      mAP50  mAP50-95): 100%|██████████| 1/1 [00:00<00:00,  1.37it/s]"
          ]
        },
        {
          "output_type": "stream",
          "name": "stdout",
          "text": [
            "                   all         18         18      0.991          1      0.995      0.976\n"
          ]
        },
        {
          "output_type": "stream",
          "name": "stderr",
          "text": [
            "\n"
          ]
        },
        {
          "output_type": "stream",
          "name": "stdout",
          "text": [
            "\n",
            "      Epoch    GPU_mem   box_loss   cls_loss   dfl_loss  Instances       Size\n"
          ]
        },
        {
          "output_type": "stream",
          "name": "stderr",
          "text": [
            "     92/100      14.9G     0.2341     0.2171     0.8697          1        640: 100%|██████████| 14/14 [00:16<00:00,  1.15s/it]\n",
            "                 Class     Images  Instances      Box(P          R      mAP50  mAP50-95): 100%|██████████| 1/1 [00:00<00:00,  1.82it/s]"
          ]
        },
        {
          "output_type": "stream",
          "name": "stdout",
          "text": [
            "                   all         18         18      0.995          1      0.995       0.98\n"
          ]
        },
        {
          "output_type": "stream",
          "name": "stderr",
          "text": [
            "\n"
          ]
        },
        {
          "output_type": "stream",
          "name": "stdout",
          "text": [
            "\n",
            "      Epoch    GPU_mem   box_loss   cls_loss   dfl_loss  Instances       Size\n"
          ]
        },
        {
          "output_type": "stream",
          "name": "stderr",
          "text": [
            "     93/100      14.9G     0.2328     0.2077     0.8547          1        640: 100%|██████████| 14/14 [00:15<00:00,  1.14s/it]\n",
            "                 Class     Images  Instances      Box(P          R      mAP50  mAP50-95): 100%|██████████| 1/1 [00:00<00:00,  1.37it/s]"
          ]
        },
        {
          "output_type": "stream",
          "name": "stdout",
          "text": [
            "                   all         18         18      0.995          1      0.995       0.97\n"
          ]
        },
        {
          "output_type": "stream",
          "name": "stderr",
          "text": [
            "\n"
          ]
        },
        {
          "output_type": "stream",
          "name": "stdout",
          "text": [
            "\n",
            "      Epoch    GPU_mem   box_loss   cls_loss   dfl_loss  Instances       Size\n"
          ]
        },
        {
          "output_type": "stream",
          "name": "stderr",
          "text": [
            "     94/100      14.9G     0.2227     0.2008     0.8381          1        640: 100%|██████████| 14/14 [00:16<00:00,  1.16s/it]\n",
            "                 Class     Images  Instances      Box(P          R      mAP50  mAP50-95): 100%|██████████| 1/1 [00:00<00:00,  1.78it/s]"
          ]
        },
        {
          "output_type": "stream",
          "name": "stdout",
          "text": [
            "                   all         18         18      0.998          1      0.995      0.984\n"
          ]
        },
        {
          "output_type": "stream",
          "name": "stderr",
          "text": [
            "\n"
          ]
        },
        {
          "output_type": "stream",
          "name": "stdout",
          "text": [
            "\n",
            "      Epoch    GPU_mem   box_loss   cls_loss   dfl_loss  Instances       Size\n"
          ]
        },
        {
          "output_type": "stream",
          "name": "stderr",
          "text": [
            "     95/100      14.9G     0.2362     0.1953     0.8238          1        640: 100%|██████████| 14/14 [00:16<00:00,  1.15s/it]\n",
            "                 Class     Images  Instances      Box(P          R      mAP50  mAP50-95): 100%|██████████| 1/1 [00:00<00:00,  1.28it/s]"
          ]
        },
        {
          "output_type": "stream",
          "name": "stdout",
          "text": [
            "                   all         18         18      0.998          1      0.995      0.983\n"
          ]
        },
        {
          "output_type": "stream",
          "name": "stderr",
          "text": [
            "\n"
          ]
        },
        {
          "output_type": "stream",
          "name": "stdout",
          "text": [
            "\n",
            "      Epoch    GPU_mem   box_loss   cls_loss   dfl_loss  Instances       Size\n"
          ]
        },
        {
          "output_type": "stream",
          "name": "stderr",
          "text": [
            "     96/100      14.9G      0.239     0.1975      0.821          1        640: 100%|██████████| 14/14 [00:15<00:00,  1.14s/it]\n",
            "                 Class     Images  Instances      Box(P          R      mAP50  mAP50-95): 100%|██████████| 1/1 [00:00<00:00,  1.85it/s]"
          ]
        },
        {
          "output_type": "stream",
          "name": "stdout",
          "text": [
            "                   all         18         18      0.998          1      0.995      0.987\n"
          ]
        },
        {
          "output_type": "stream",
          "name": "stderr",
          "text": [
            "\n"
          ]
        },
        {
          "output_type": "stream",
          "name": "stdout",
          "text": [
            "\n",
            "      Epoch    GPU_mem   box_loss   cls_loss   dfl_loss  Instances       Size\n"
          ]
        },
        {
          "output_type": "stream",
          "name": "stderr",
          "text": [
            "     97/100      14.9G     0.1986     0.1832     0.8306          1        640: 100%|██████████| 14/14 [00:16<00:00,  1.14s/it]\n",
            "                 Class     Images  Instances      Box(P          R      mAP50  mAP50-95): 100%|██████████| 1/1 [00:00<00:00,  1.61it/s]"
          ]
        },
        {
          "output_type": "stream",
          "name": "stdout",
          "text": [
            "                   all         18         18      0.998          1      0.995      0.991\n"
          ]
        },
        {
          "output_type": "stream",
          "name": "stderr",
          "text": [
            "\n"
          ]
        },
        {
          "output_type": "stream",
          "name": "stdout",
          "text": [
            "\n",
            "      Epoch    GPU_mem   box_loss   cls_loss   dfl_loss  Instances       Size\n"
          ]
        },
        {
          "output_type": "stream",
          "name": "stderr",
          "text": [
            "     98/100      14.9G     0.2319     0.1906     0.8173          1        640: 100%|██████████| 14/14 [00:16<00:00,  1.15s/it]\n",
            "                 Class     Images  Instances      Box(P          R      mAP50  mAP50-95): 100%|██████████| 1/1 [00:00<00:00,  1.45it/s]"
          ]
        },
        {
          "output_type": "stream",
          "name": "stdout",
          "text": [
            "                   all         18         18          1          1      0.995       0.98\n"
          ]
        },
        {
          "output_type": "stream",
          "name": "stderr",
          "text": [
            "\n"
          ]
        },
        {
          "output_type": "stream",
          "name": "stdout",
          "text": [
            "\n",
            "      Epoch    GPU_mem   box_loss   cls_loss   dfl_loss  Instances       Size\n"
          ]
        },
        {
          "output_type": "stream",
          "name": "stderr",
          "text": [
            "     99/100      14.9G     0.2169     0.1869     0.8224          1        640: 100%|██████████| 14/14 [00:15<00:00,  1.14s/it]\n",
            "                 Class     Images  Instances      Box(P          R      mAP50  mAP50-95): 100%|██████████| 1/1 [00:00<00:00,  1.76it/s]"
          ]
        },
        {
          "output_type": "stream",
          "name": "stdout",
          "text": [
            "                   all         18         18          1          1      0.995      0.991\n"
          ]
        },
        {
          "output_type": "stream",
          "name": "stderr",
          "text": [
            "\n"
          ]
        },
        {
          "output_type": "stream",
          "name": "stdout",
          "text": [
            "\n",
            "      Epoch    GPU_mem   box_loss   cls_loss   dfl_loss  Instances       Size\n"
          ]
        },
        {
          "output_type": "stream",
          "name": "stderr",
          "text": [
            "    100/100      14.9G     0.1913      0.232      0.838          1        640: 100%|██████████| 14/14 [00:15<00:00,  1.13s/it]\n",
            "                 Class     Images  Instances      Box(P          R      mAP50  mAP50-95): 100%|██████████| 1/1 [00:00<00:00,  1.70it/s]"
          ]
        },
        {
          "output_type": "stream",
          "name": "stdout",
          "text": [
            "                   all         18         18          1          1      0.995      0.991\n"
          ]
        },
        {
          "output_type": "stream",
          "name": "stderr",
          "text": [
            "\n"
          ]
        },
        {
          "output_type": "stream",
          "name": "stdout",
          "text": [
            "\n",
            "100 epochs completed in 0.667 hours.\n",
            "Optimizer stripped from runs/detect/train/weights/last.pt, 136.7MB\n",
            "Optimizer stripped from runs/detect/train/weights/best.pt, 136.7MB\n",
            "\n",
            "Validating runs/detect/train/weights/best.pt...\n",
            "Ultralytics YOLOv8.1.27 🚀 Python-3.10.12 torch-2.1.0+cu121 CUDA:0 (Tesla T4, 15102MiB)\n",
            "Model summary (fused): 268 layers, 68125494 parameters, 0 gradients, 257.4 GFLOPs\n"
          ]
        },
        {
          "output_type": "stream",
          "name": "stderr",
          "text": [
            "                 Class     Images  Instances      Box(P          R      mAP50  mAP50-95): 100%|██████████| 1/1 [00:00<00:00,  1.80it/s]\n"
          ]
        },
        {
          "output_type": "stream",
          "name": "stdout",
          "text": [
            "                   all         18         18      0.992          1      0.995      0.995\n",
            "               Battery         18          4      0.989          1      0.995      0.995\n",
            "            PCB-Boards         18         14      0.995          1      0.995      0.995\n",
            "Speed: 0.2ms preprocess, 26.9ms inference, 0.0ms loss, 1.0ms postprocess per image\n",
            "Results saved to \u001b[1mruns/detect/train\u001b[0m\n"
          ]
        }
      ],
      "source": [
        "model = YOLO('yolov8x.pt') # used a heavy model, go up from light to heavier gradually.\n",
        "results = model.train(data=data_dir+'data.yaml', epochs = 100, patience = 50) # tweek training parameters according to own training req, start low, gradually go higher"
      ]
    },
    {
      "cell_type": "code",
      "execution_count": null,
      "metadata": {
        "id": "480fLDV7hIgG"
      },
      "outputs": [],
      "source": [
        "weights = '/content/drive/MyDrive/runs/detect/train/weights/best.pt'\n",
        "model = YOLO(weights)"
      ]
    },
    {
      "cell_type": "code",
      "execution_count": null,
      "metadata": {
        "colab": {
          "base_uri": "https://localhost:8080/"
        },
        "id": "y1GPu8rViAf9",
        "outputId": "10acc700-ba9a-4012-d50c-2b8c88d2d876"
      },
      "outputs": [
        {
          "output_type": "stream",
          "name": "stdout",
          "text": [
            "\n",
            "image 1/30 /content/drive/MyDrive/Images for test v4/defected/WIN_20240311_12_48_44_Pro.jpg: 384x640 1 PCB-Boards, 78.7ms\n",
            "image 2/30 /content/drive/MyDrive/Images for test v4/defected/WIN_20240311_12_51_30_Pro.jpg: 384x640 1 PCB-Boards, 51.8ms\n",
            "image 3/30 /content/drive/MyDrive/Images for test v4/defected/WIN_20240311_12_52_36_Pro.jpg: 384x640 1 PCB-Boards, 51.8ms\n",
            "image 4/30 /content/drive/MyDrive/Images for test v4/defected/WIN_20240311_12_54_07_Pro.jpg: 384x640 1 PCB-Boards, 61.9ms\n",
            "image 5/30 /content/drive/MyDrive/Images for test v4/defected/WIN_20240311_12_55_45_Pro.jpg: 384x640 1 PCB-Boards, 61.8ms\n",
            "image 6/30 /content/drive/MyDrive/Images for test v4/defected/WIN_20240311_12_58_27_Pro.jpg: 384x640 1 PCB-Boards, 61.9ms\n",
            "image 7/30 /content/drive/MyDrive/Images for test v4/defected/WIN_20240311_13_01_04_Pro.jpg: 384x640 1 PCB-Boards, 61.9ms\n",
            "image 8/30 /content/drive/MyDrive/Images for test v4/defected/WIN_20240311_13_14_38_Pro.jpg: 384x640 1 PCB-Boards, 61.9ms\n",
            "image 9/30 /content/drive/MyDrive/Images for test v4/defected/WIN_20240311_13_15_14_Pro.jpg: 384x640 1 PCB-Boards, 61.9ms\n",
            "image 10/30 /content/drive/MyDrive/Images for test v4/defected/WIN_20240311_13_16_25_Pro.jpg: 384x640 1 PCB-Boards, 62.2ms\n",
            "image 11/30 /content/drive/MyDrive/Images for test v4/defected/WIN_20240311_13_17_56_Pro.jpg: 384x640 1 PCB-Boards, 61.9ms\n",
            "image 12/30 /content/drive/MyDrive/Images for test v4/defected/WIN_20240311_13_31_35_Pro.jpg: 384x640 1 PCB-Boards, 61.8ms\n",
            "image 13/30 /content/drive/MyDrive/Images for test v4/defected/WIN_20240311_13_32_40_Pro.jpg: 384x640 1 PCB-Boards, 62.0ms\n",
            "image 14/30 /content/drive/MyDrive/Images for test v4/defected/WIN_20240311_13_34_02_Pro.jpg: 384x640 1 PCB-Boards, 61.9ms\n",
            "image 15/30 /content/drive/MyDrive/Images for test v4/defected/WIN_20240311_13_35_33_Pro.jpg: 384x640 1 PCB-Boards, 62.2ms\n",
            "image 16/30 /content/drive/MyDrive/Images for test v4/defected/WIN_20240311_13_36_11_Pro.jpg: 384x640 1 PCB-Boards, 61.9ms\n",
            "image 17/30 /content/drive/MyDrive/Images for test v4/defected/WIN_20240311_13_36_41_Pro.jpg: 384x640 1 PCB-Boards, 61.8ms\n",
            "image 18/30 /content/drive/MyDrive/Images for test v4/defected/WIN_20240311_13_37_14_Pro.jpg: 384x640 1 PCB-Boards, 61.8ms\n",
            "image 19/30 /content/drive/MyDrive/Images for test v4/defected/WIN_20240311_13_38_08_Pro.jpg: 384x640 1 PCB-Boards, 61.8ms\n",
            "image 20/30 /content/drive/MyDrive/Images for test v4/defected/WIN_20240311_13_38_54_Pro.jpg: 384x640 1 PCB-Boards, 61.8ms\n",
            "image 21/30 /content/drive/MyDrive/Images for test v4/defected/WIN_20240311_13_40_21_Pro.jpg: 384x640 1 PCB-Boards, 62.0ms\n",
            "image 22/30 /content/drive/MyDrive/Images for test v4/defected/WIN_20240311_13_41_38_Pro.jpg: 384x640 1 PCB-Boards, 61.9ms\n",
            "image 23/30 /content/drive/MyDrive/Images for test v4/defected/WIN_20240311_13_43_29_Pro.jpg: 384x640 1 PCB-Boards, 61.9ms\n",
            "image 24/30 /content/drive/MyDrive/Images for test v4/defected/WIN_20240311_13_45_35_Pro.jpg: 384x640 1 PCB-Boards, 61.9ms\n",
            "image 25/30 /content/drive/MyDrive/Images for test v4/defected/WIN_20240311_13_46_06_Pro.jpg: 384x640 1 PCB-Boards, 62.0ms\n",
            "image 26/30 /content/drive/MyDrive/Images for test v4/defected/WIN_20240311_13_46_42_Pro.jpg: 384x640 1 PCB-Boards, 61.8ms\n",
            "image 27/30 /content/drive/MyDrive/Images for test v4/defected/WIN_20240311_13_47_36_Pro.jpg: 384x640 1 PCB-Boards, 61.8ms\n",
            "image 28/30 /content/drive/MyDrive/Images for test v4/defected/WIN_20240311_13_48_26_Pro.jpg: 384x640 1 PCB-Boards, 62.3ms\n",
            "image 29/30 /content/drive/MyDrive/Images for test v4/defected/WIN_20240311_13_49_03_Pro.jpg: 384x640 1 PCB-Boards, 62.3ms\n",
            "image 30/30 /content/drive/MyDrive/Images for test v4/defected/WIN_20240311_13_49_36_Pro.jpg: 384x640 1 PCB-Boards, 61.9ms\n",
            "Speed: 2.4ms preprocess, 61.8ms inference, 1.8ms postprocess per image at shape (1, 3, 384, 640)\n",
            "Results saved to \u001b[1mruns/detect/predict\u001b[0m\n",
            "30 labels saved to runs/detect/predict/labels\n"
          ]
        }
      ],
      "source": [
        "inference_data = '/content/drive/MyDrive/Images for test v4/defected'\n",
        "\n",
        "# Run inference on the source\n",
        "results = model.predict(inference_data, iou = 0.5, conf = 0.7, save= True, save_txt = True)"
      ]
    },
    {
      "cell_type": "code",
      "execution_count": null,
      "metadata": {
        "id": "S_vnB5d0iFrl"
      },
      "outputs": [],
      "source": [
        "pred_boxes = []\n",
        "true_boxes = []\n",
        "filenames = []\n",
        "for r in results:\n",
        "\n",
        "  pred_boxes.append(r.boxes.shape[0])\n",
        "  img = r.path.split('.jpg')[0]\n",
        "  filenames.append(img)\n",
        "  txt = open(img.replace('images', 'labels')+ '.txt', \"r\")\n",
        "  true_boxes.append(len(txt.readlines()))\n",
        "\n",
        "accuracy = np.array(pred_boxes)/np.array(true_boxes)"
      ]
    },
    {
      "cell_type": "code",
      "source": [
        "img = results[1].path"
      ],
      "metadata": {
        "id": "2bxhy8qtgNmR"
      },
      "execution_count": null,
      "outputs": []
    },
    {
      "cell_type": "code",
      "source": [
        "import pandas as pd\n",
        "import numpy as np\n",
        "\n",
        "report= pd.DataFrame(list(zip(pred_boxes, true_boxes, (accuracy==1)*1 )), columns = ['pred_boxes', 'true_boxes', 'Accuracy'], index = filenames)\n",
        "print(f\"Accuracy = {report['Accuracy'].mean():.4g}\")"
      ],
      "metadata": {
        "id": "N86SpKnHYmL2",
        "outputId": "ecafb6ec-4a3d-417b-8bbc-f155d9d4edc7",
        "colab": {
          "base_uri": "https://localhost:8080/",
          "height": 193
        }
      },
      "execution_count": null,
      "outputs": [
        {
          "output_type": "error",
          "ename": "NameError",
          "evalue": "name 'accuracy' is not defined",
          "traceback": [
            "\u001b[0;31m---------------------------------------------------------------------------\u001b[0m",
            "\u001b[0;31mNameError\u001b[0m                                 Traceback (most recent call last)",
            "\u001b[0;32m<ipython-input-13-bf82e3297900>\u001b[0m in \u001b[0;36m<cell line: 4>\u001b[0;34m()\u001b[0m\n\u001b[1;32m      2\u001b[0m \u001b[0;32mimport\u001b[0m \u001b[0mnumpy\u001b[0m \u001b[0;32mas\u001b[0m \u001b[0mnp\u001b[0m\u001b[0;34m\u001b[0m\u001b[0;34m\u001b[0m\u001b[0m\n\u001b[1;32m      3\u001b[0m \u001b[0;34m\u001b[0m\u001b[0m\n\u001b[0;32m----> 4\u001b[0;31m \u001b[0mreport\u001b[0m\u001b[0;34m=\u001b[0m \u001b[0mpd\u001b[0m\u001b[0;34m.\u001b[0m\u001b[0mDataFrame\u001b[0m\u001b[0;34m(\u001b[0m\u001b[0mlist\u001b[0m\u001b[0;34m(\u001b[0m\u001b[0mzip\u001b[0m\u001b[0;34m(\u001b[0m\u001b[0mpred_boxes\u001b[0m\u001b[0;34m,\u001b[0m \u001b[0mtrue_boxes\u001b[0m\u001b[0;34m,\u001b[0m \u001b[0;34m(\u001b[0m\u001b[0maccuracy\u001b[0m\u001b[0;34m==\u001b[0m\u001b[0;36m1\u001b[0m\u001b[0;34m)\u001b[0m\u001b[0;34m*\u001b[0m\u001b[0;36m1\u001b[0m \u001b[0;34m)\u001b[0m\u001b[0;34m)\u001b[0m\u001b[0;34m,\u001b[0m \u001b[0mcolumns\u001b[0m \u001b[0;34m=\u001b[0m \u001b[0;34m[\u001b[0m\u001b[0;34m'pred_boxes'\u001b[0m\u001b[0;34m,\u001b[0m \u001b[0;34m'true_boxes'\u001b[0m\u001b[0;34m,\u001b[0m \u001b[0;34m'Accuracy'\u001b[0m\u001b[0;34m]\u001b[0m\u001b[0;34m,\u001b[0m \u001b[0mindex\u001b[0m \u001b[0;34m=\u001b[0m \u001b[0mfilenames\u001b[0m\u001b[0;34m)\u001b[0m\u001b[0;34m\u001b[0m\u001b[0;34m\u001b[0m\u001b[0m\n\u001b[0m",
            "\u001b[0;31mNameError\u001b[0m: name 'accuracy' is not defined"
          ]
        }
      ]
    },
    {
      "cell_type": "code",
      "source": [
        "results"
      ],
      "metadata": {
        "colab": {
          "base_uri": "https://localhost:8080/"
        },
        "id": "ojjilGgJckpF",
        "outputId": "1fc4d062-b453-418e-f1d9-e76cf1fd26c9"
      },
      "execution_count": null,
      "outputs": [
        {
          "output_type": "execute_result",
          "data": {
            "text/plain": [
              "[ultralytics.engine.results.Results object with attributes:\n",
              " \n",
              " boxes: ultralytics.engine.results.Boxes object\n",
              " keypoints: None\n",
              " masks: None\n",
              " names: {0: 'missing_component'}\n",
              " obb: None\n",
              " orig_img: array([[[114, 112, 104],\n",
              "         [101,  99,  91],\n",
              "         [100,  98,  90],\n",
              "         ...,\n",
              "         [137, 135, 124],\n",
              "         [139, 137, 126],\n",
              "         [154, 152, 141]],\n",
              " \n",
              "        [[114, 112, 104],\n",
              "         [101,  99,  91],\n",
              "         [101,  99,  91],\n",
              "         ...,\n",
              "         [137, 135, 124],\n",
              "         [139, 137, 126],\n",
              "         [154, 152, 141]],\n",
              " \n",
              "        [[115, 113, 105],\n",
              "         [102, 100,  92],\n",
              "         [101,  99,  91],\n",
              "         ...,\n",
              "         [137, 135, 124],\n",
              "         [139, 137, 126],\n",
              "         [154, 152, 141]],\n",
              " \n",
              "        ...,\n",
              " \n",
              "        [[161, 161, 149],\n",
              "         [142, 142, 130],\n",
              "         [138, 138, 126],\n",
              "         ...,\n",
              "         [156, 154, 143],\n",
              "         [160, 158, 147],\n",
              "         [179, 177, 166]],\n",
              " \n",
              "        [[161, 161, 149],\n",
              "         [142, 142, 130],\n",
              "         [137, 137, 125],\n",
              "         ...,\n",
              "         [156, 154, 143],\n",
              "         [160, 158, 147],\n",
              "         [179, 177, 166]],\n",
              " \n",
              "        [[160, 160, 148],\n",
              "         [141, 141, 129],\n",
              "         [137, 137, 125],\n",
              "         ...,\n",
              "         [156, 154, 143],\n",
              "         [160, 158, 147],\n",
              "         [179, 177, 166]]], dtype=uint8)\n",
              " orig_shape: (640, 640)\n",
              " path: '/content/drive/MyDrive/datasets/data-v5/test/images/WIN_20240306_14_20_11_Pro_jpg.rf.66cd6a1dc9fd52e66ac0605921aebac6.jpg'\n",
              " probs: None\n",
              " save_dir: 'runs/detect/predict5'\n",
              " speed: {'preprocess': 2.0170211791992188, 'inference': 97.17321395874023, 'postprocess': 1.9452571868896484},\n",
              " ultralytics.engine.results.Results object with attributes:\n",
              " \n",
              " boxes: ultralytics.engine.results.Boxes object\n",
              " keypoints: None\n",
              " masks: None\n",
              " names: {0: 'missing_component'}\n",
              " obb: None\n",
              " orig_img: array([[[115, 115, 103],\n",
              "         [102, 102,  90],\n",
              "         [101, 101,  89],\n",
              "         ...,\n",
              "         [135, 134, 120],\n",
              "         [137, 136, 122],\n",
              "         [150, 149, 135]],\n",
              " \n",
              "        [[115, 115, 103],\n",
              "         [102, 102,  90],\n",
              "         [101, 101,  89],\n",
              "         ...,\n",
              "         [135, 134, 120],\n",
              "         [137, 136, 122],\n",
              "         [150, 149, 135]],\n",
              " \n",
              "        [[116, 116, 104],\n",
              "         [103, 103,  91],\n",
              "         [102, 102,  90],\n",
              "         ...,\n",
              "         [136, 135, 121],\n",
              "         [137, 136, 122],\n",
              "         [151, 150, 136]],\n",
              " \n",
              "        ...,\n",
              " \n",
              "        [[161, 161, 143],\n",
              "         [142, 142, 124],\n",
              "         [139, 139, 123],\n",
              "         ...,\n",
              "         [160, 154, 141],\n",
              "         [164, 158, 145],\n",
              "         [183, 177, 164]],\n",
              " \n",
              "        [[161, 161, 143],\n",
              "         [142, 142, 124],\n",
              "         [139, 139, 123],\n",
              "         ...,\n",
              "         [160, 154, 141],\n",
              "         [164, 158, 145],\n",
              "         [183, 177, 164]],\n",
              " \n",
              "        [[161, 161, 143],\n",
              "         [142, 142, 124],\n",
              "         [139, 139, 123],\n",
              "         ...,\n",
              "         [160, 154, 141],\n",
              "         [164, 158, 145],\n",
              "         [183, 177, 164]]], dtype=uint8)\n",
              " orig_shape: (640, 640)\n",
              " path: '/content/drive/MyDrive/datasets/data-v5/test/images/WIN_20240306_14_21_15_Pro_jpg.rf.e1e0977deb4052093ce251c1932fca67.jpg'\n",
              " probs: None\n",
              " save_dir: 'runs/detect/predict5'\n",
              " speed: {'preprocess': 1.552581787109375, 'inference': 85.113525390625, 'postprocess': 1.3842582702636719},\n",
              " ultralytics.engine.results.Results object with attributes:\n",
              " \n",
              " boxes: ultralytics.engine.results.Boxes object\n",
              " keypoints: None\n",
              " masks: None\n",
              " names: {0: 'missing_component'}\n",
              " obb: None\n",
              " orig_img: array([[[113, 113, 101],\n",
              "         [100, 100,  88],\n",
              "         [ 99,  99,  87],\n",
              "         ...,\n",
              "         [137, 131, 120],\n",
              "         [139, 133, 122],\n",
              "         [152, 146, 135]],\n",
              " \n",
              "        [[113, 113, 101],\n",
              "         [100, 100,  88],\n",
              "         [100, 100,  88],\n",
              "         ...,\n",
              "         [137, 131, 120],\n",
              "         [139, 133, 122],\n",
              "         [152, 146, 135]],\n",
              " \n",
              "        [[113, 113, 101],\n",
              "         [100, 100,  88],\n",
              "         [100, 100,  88],\n",
              "         ...,\n",
              "         [138, 132, 121],\n",
              "         [139, 133, 122],\n",
              "         [153, 147, 136]],\n",
              " \n",
              "        ...,\n",
              " \n",
              "        [[161, 161, 147],\n",
              "         [136, 136, 122],\n",
              "         [140, 140, 126],\n",
              "         ...,\n",
              "         [161, 159, 148],\n",
              "         [156, 154, 143],\n",
              "         [180, 178, 167]],\n",
              " \n",
              "        [[160, 160, 146],\n",
              "         [135, 135, 121],\n",
              "         [140, 140, 126],\n",
              "         ...,\n",
              "         [161, 159, 148],\n",
              "         [156, 154, 143],\n",
              "         [180, 178, 167]],\n",
              " \n",
              "        [[160, 160, 146],\n",
              "         [135, 135, 121],\n",
              "         [140, 140, 126],\n",
              "         ...,\n",
              "         [161, 159, 148],\n",
              "         [156, 154, 143],\n",
              "         [180, 178, 167]]], dtype=uint8)\n",
              " orig_shape: (640, 640)\n",
              " path: '/content/drive/MyDrive/datasets/data-v5/test/images/WIN_20240306_14_24_07_Pro_jpg.rf.f819da20567e4e13855992fd5605cfdb.jpg'\n",
              " probs: None\n",
              " save_dir: 'runs/detect/predict5'\n",
              " speed: {'preprocess': 1.5158653259277344, 'inference': 59.990644454956055, 'postprocess': 1.3210773468017578},\n",
              " ultralytics.engine.results.Results object with attributes:\n",
              " \n",
              " boxes: ultralytics.engine.results.Boxes object\n",
              " keypoints: None\n",
              " masks: None\n",
              " names: {0: 'missing_component'}\n",
              " obb: None\n",
              " orig_img: array([[[112, 112, 100],\n",
              "         [ 99,  99,  87],\n",
              "         [ 98,  98,  86],\n",
              "         ...,\n",
              "         [140, 134, 121],\n",
              "         [142, 136, 123],\n",
              "         [155, 149, 136]],\n",
              " \n",
              "        [[112, 112, 100],\n",
              "         [ 99,  99,  87],\n",
              "         [ 99,  99,  87],\n",
              "         ...,\n",
              "         [140, 134, 121],\n",
              "         [142, 136, 123],\n",
              "         [155, 149, 136]],\n",
              " \n",
              "        [[112, 112, 100],\n",
              "         [ 99,  99,  87],\n",
              "         [ 99,  99,  87],\n",
              "         ...,\n",
              "         [141, 135, 122],\n",
              "         [142, 136, 123],\n",
              "         [156, 150, 137]],\n",
              " \n",
              "        ...,\n",
              " \n",
              "        [[161, 161, 147],\n",
              "         [142, 142, 128],\n",
              "         [138, 138, 124],\n",
              "         ...,\n",
              "         [160, 159, 145],\n",
              "         [163, 162, 148],\n",
              "         [182, 181, 167]],\n",
              " \n",
              "        [[161, 161, 147],\n",
              "         [142, 142, 128],\n",
              "         [137, 137, 123],\n",
              "         ...,\n",
              "         [160, 159, 145],\n",
              "         [163, 162, 148],\n",
              "         [182, 181, 167]],\n",
              " \n",
              "        [[160, 160, 146],\n",
              "         [141, 141, 127],\n",
              "         [137, 137, 123],\n",
              "         ...,\n",
              "         [160, 159, 145],\n",
              "         [163, 162, 148],\n",
              "         [182, 181, 167]]], dtype=uint8)\n",
              " orig_shape: (640, 640)\n",
              " path: '/content/drive/MyDrive/datasets/data-v5/test/images/WIN_20240306_14_26_17_Pro_jpg.rf.cbffe1394533170f6a2738ebb8d6c249.jpg'\n",
              " probs: None\n",
              " save_dir: 'runs/detect/predict5'\n",
              " speed: {'preprocess': 1.5566349029541016, 'inference': 57.080745697021484, 'postprocess': 1.4164447784423828},\n",
              " ultralytics.engine.results.Results object with attributes:\n",
              " \n",
              " boxes: ultralytics.engine.results.Boxes object\n",
              " keypoints: None\n",
              " masks: None\n",
              " names: {0: 'missing_component'}\n",
              " obb: None\n",
              " orig_img: array([[[119, 112,  97],\n",
              "         [106,  99,  84],\n",
              "         [104,  99,  84],\n",
              "         ...,\n",
              "         [144, 133, 119],\n",
              "         [148, 137, 123],\n",
              "         [163, 152, 138]],\n",
              " \n",
              "        [[120, 113,  98],\n",
              "         [107, 100,  85],\n",
              "         [105, 100,  85],\n",
              "         ...,\n",
              "         [145, 134, 120],\n",
              "         [148, 137, 123],\n",
              "         [163, 152, 138]],\n",
              " \n",
              "        [[120, 113,  98],\n",
              "         [107, 100,  85],\n",
              "         [105, 100,  85],\n",
              "         ...,\n",
              "         [145, 134, 120],\n",
              "         [148, 137, 123],\n",
              "         [164, 153, 139]],\n",
              " \n",
              "        ...,\n",
              " \n",
              "        [[163, 158, 143],\n",
              "         [145, 140, 125],\n",
              "         [141, 136, 121],\n",
              "         ...,\n",
              "         [168, 157, 143],\n",
              "         [171, 160, 146],\n",
              "         [190, 179, 165]],\n",
              " \n",
              "        [[163, 158, 143],\n",
              "         [144, 139, 124],\n",
              "         [141, 136, 121],\n",
              "         ...,\n",
              "         [168, 157, 143],\n",
              "         [171, 160, 146],\n",
              "         [190, 179, 165]],\n",
              " \n",
              "        [[163, 158, 143],\n",
              "         [144, 139, 124],\n",
              "         [141, 136, 121],\n",
              "         ...,\n",
              "         [168, 157, 143],\n",
              "         [171, 160, 146],\n",
              "         [190, 179, 165]]], dtype=uint8)\n",
              " orig_shape: (640, 640)\n",
              " path: '/content/drive/MyDrive/datasets/data-v5/test/images/WIN_20240306_14_28_18_Pro_jpg.rf.b6a7fada2a2279ca8184f1224909aef2.jpg'\n",
              " probs: None\n",
              " save_dir: 'runs/detect/predict5'\n",
              " speed: {'preprocess': 1.6226768493652344, 'inference': 54.991960525512695, 'postprocess': 1.3208389282226562},\n",
              " ultralytics.engine.results.Results object with attributes:\n",
              " \n",
              " boxes: ultralytics.engine.results.Boxes object\n",
              " keypoints: None\n",
              " masks: None\n",
              " names: {0: 'missing_component'}\n",
              " obb: None\n",
              " orig_img: array([[[116, 115, 101],\n",
              "         [103, 102,  88],\n",
              "         [102, 101,  87],\n",
              "         ...,\n",
              "         [141, 133, 120],\n",
              "         [142, 134, 121],\n",
              "         [155, 147, 134]],\n",
              " \n",
              "        [[116, 115, 101],\n",
              "         [103, 102,  88],\n",
              "         [102, 101,  87],\n",
              "         ...,\n",
              "         [141, 133, 120],\n",
              "         [142, 134, 121],\n",
              "         [155, 147, 134]],\n",
              " \n",
              "        [[116, 115, 101],\n",
              "         [103, 102,  88],\n",
              "         [102, 101,  87],\n",
              "         ...,\n",
              "         [141, 133, 120],\n",
              "         [142, 134, 121],\n",
              "         [156, 148, 135]],\n",
              " \n",
              "        ...,\n",
              " \n",
              "        [[158, 158, 142],\n",
              "         [141, 141, 125],\n",
              "         [139, 139, 123],\n",
              "         ...,\n",
              "         [168, 163, 148],\n",
              "         [172, 167, 152],\n",
              "         [191, 186, 171]],\n",
              " \n",
              "        [[158, 158, 142],\n",
              "         [141, 141, 125],\n",
              "         [139, 139, 123],\n",
              "         ...,\n",
              "         [168, 163, 148],\n",
              "         [172, 167, 152],\n",
              "         [191, 186, 171]],\n",
              " \n",
              "        [[157, 157, 141],\n",
              "         [140, 140, 124],\n",
              "         [138, 138, 122],\n",
              "         ...,\n",
              "         [168, 163, 148],\n",
              "         [172, 167, 152],\n",
              "         [191, 186, 171]]], dtype=uint8)\n",
              " orig_shape: (640, 640)\n",
              " path: '/content/drive/MyDrive/datasets/data-v5/test/images/WIN_20240306_14_31_06_Pro_jpg.rf.b0c025d750b2d8f1ff010b4908983fc3.jpg'\n",
              " probs: None\n",
              " save_dir: 'runs/detect/predict5'\n",
              " speed: {'preprocess': 1.5718936920166016, 'inference': 54.20088768005371, 'postprocess': 1.9807815551757812},\n",
              " ultralytics.engine.results.Results object with attributes:\n",
              " \n",
              " boxes: ultralytics.engine.results.Boxes object\n",
              " keypoints: None\n",
              " masks: None\n",
              " names: {0: 'missing_component'}\n",
              " obb: None\n",
              " orig_img: array([[[113, 113, 101],\n",
              "         [100, 100,  88],\n",
              "         [ 99,  99,  87],\n",
              "         ...,\n",
              "         [132, 130, 119],\n",
              "         [134, 132, 121],\n",
              "         [147, 145, 134]],\n",
              " \n",
              "        [[113, 113, 101],\n",
              "         [100, 100,  88],\n",
              "         [ 99,  99,  87],\n",
              "         ...,\n",
              "         [132, 130, 119],\n",
              "         [134, 132, 121],\n",
              "         [147, 145, 134]],\n",
              " \n",
              "        [[114, 114, 102],\n",
              "         [101, 101,  89],\n",
              "         [100, 100,  88],\n",
              "         ...,\n",
              "         [133, 131, 120],\n",
              "         [134, 132, 121],\n",
              "         [148, 146, 135]],\n",
              " \n",
              "        ...,\n",
              " \n",
              "        [[158, 158, 144],\n",
              "         [139, 139, 125],\n",
              "         [136, 136, 122],\n",
              "         ...,\n",
              "         [155, 153, 142],\n",
              "         [159, 157, 146],\n",
              "         [177, 175, 164]],\n",
              " \n",
              "        [[158, 158, 144],\n",
              "         [139, 139, 125],\n",
              "         [136, 136, 122],\n",
              "         ...,\n",
              "         [155, 153, 142],\n",
              "         [158, 156, 145],\n",
              "         [177, 175, 164]],\n",
              " \n",
              "        [[158, 158, 144],\n",
              "         [139, 139, 125],\n",
              "         [136, 136, 122],\n",
              "         ...,\n",
              "         [155, 153, 142],\n",
              "         [158, 156, 145],\n",
              "         [177, 175, 164]]], dtype=uint8)\n",
              " orig_shape: (640, 640)\n",
              " path: '/content/drive/MyDrive/datasets/data-v5/test/images/WIN_20240306_14_34_40_Pro_jpg.rf.e1319951630a909251fc610c87c0bf23.jpg'\n",
              " probs: None\n",
              " save_dir: 'runs/detect/predict5'\n",
              " speed: {'preprocess': 1.5246868133544922, 'inference': 52.942514419555664, 'postprocess': 3.0851364135742188},\n",
              " ultralytics.engine.results.Results object with attributes:\n",
              " \n",
              " boxes: ultralytics.engine.results.Boxes object\n",
              " keypoints: None\n",
              " masks: None\n",
              " names: {0: 'missing_component'}\n",
              " obb: None\n",
              " orig_img: array([[[111, 111,  97],\n",
              "         [103, 103,  89],\n",
              "         [ 98,  98,  84],\n",
              "         ...,\n",
              "         [133, 132, 118],\n",
              "         [135, 134, 120],\n",
              "         [148, 147, 133]],\n",
              " \n",
              "        [[111, 111,  97],\n",
              "         [104, 104,  90],\n",
              "         [ 99,  99,  85],\n",
              "         ...,\n",
              "         [133, 132, 118],\n",
              "         [135, 134, 120],\n",
              "         [148, 147, 133]],\n",
              " \n",
              "        [[112, 112,  98],\n",
              "         [104, 104,  90],\n",
              "         [ 99,  99,  85],\n",
              "         ...,\n",
              "         [134, 133, 119],\n",
              "         [135, 134, 120],\n",
              "         [149, 148, 134]],\n",
              " \n",
              "        ...,\n",
              " \n",
              "        [[160, 161, 145],\n",
              "         [140, 141, 125],\n",
              "         [136, 137, 121],\n",
              "         ...,\n",
              "         [156, 156, 138],\n",
              "         [158, 158, 140],\n",
              "         [174, 174, 156]],\n",
              " \n",
              "        [[160, 161, 145],\n",
              "         [140, 141, 125],\n",
              "         [136, 137, 121],\n",
              "         ...,\n",
              "         [156, 156, 138],\n",
              "         [157, 157, 139],\n",
              "         [174, 174, 156]],\n",
              " \n",
              "        [[160, 161, 145],\n",
              "         [140, 141, 125],\n",
              "         [136, 137, 121],\n",
              "         ...,\n",
              "         [156, 156, 138],\n",
              "         [157, 157, 139],\n",
              "         [174, 174, 156]]], dtype=uint8)\n",
              " orig_shape: (640, 640)\n",
              " path: '/content/drive/MyDrive/datasets/data-v5/test/images/WIN_20240306_14_36_31_Pro_jpg.rf.fac03a32f6e8a33fdfd5160b5dcffc5b.jpg'\n",
              " probs: None\n",
              " save_dir: 'runs/detect/predict5'\n",
              " speed: {'preprocess': 1.5799999237060547, 'inference': 54.895877838134766, 'postprocess': 1.3415813446044922},\n",
              " ultralytics.engine.results.Results object with attributes:\n",
              " \n",
              " boxes: ultralytics.engine.results.Boxes object\n",
              " keypoints: None\n",
              " masks: None\n",
              " names: {0: 'missing_component'}\n",
              " obb: None\n",
              " orig_img: array([[[117, 111,  98],\n",
              "         [105,  99,  86],\n",
              "         [104, 101,  87],\n",
              "         ...,\n",
              "         [138, 129, 115],\n",
              "         [140, 131, 117],\n",
              "         [154, 145, 131]],\n",
              " \n",
              "        [[118, 112,  99],\n",
              "         [105,  99,  86],\n",
              "         [104, 101,  87],\n",
              "         ...,\n",
              "         [138, 129, 115],\n",
              "         [140, 131, 117],\n",
              "         [154, 145, 131]],\n",
              " \n",
              "        [[119, 113, 100],\n",
              "         [106, 100,  87],\n",
              "         [104, 101,  87],\n",
              "         ...,\n",
              "         [139, 130, 116],\n",
              "         [140, 131, 117],\n",
              "         [154, 145, 131]],\n",
              " \n",
              "        ...,\n",
              " \n",
              "        [[163, 158, 143],\n",
              "         [144, 139, 124],\n",
              "         [140, 135, 120],\n",
              "         ...,\n",
              "         [163, 156, 141],\n",
              "         [166, 159, 144],\n",
              "         [182, 175, 160]],\n",
              " \n",
              "        [[163, 158, 143],\n",
              "         [144, 139, 124],\n",
              "         [140, 135, 120],\n",
              "         ...,\n",
              "         [163, 156, 141],\n",
              "         [166, 159, 144],\n",
              "         [181, 174, 159]],\n",
              " \n",
              "        [[163, 158, 143],\n",
              "         [144, 139, 124],\n",
              "         [141, 136, 121],\n",
              "         ...,\n",
              "         [162, 155, 140],\n",
              "         [165, 158, 143],\n",
              "         [181, 174, 159]]], dtype=uint8)\n",
              " orig_shape: (640, 640)\n",
              " path: '/content/drive/MyDrive/datasets/data-v5/test/images/WIN_20240306_14_37_33_Pro_jpg.rf.9465c4386c73e13a675ff195778a2710.jpg'\n",
              " probs: None\n",
              " save_dir: 'runs/detect/predict5'\n",
              " speed: {'preprocess': 1.7538070678710938, 'inference': 56.346893310546875, 'postprocess': 1.4264583587646484},\n",
              " ultralytics.engine.results.Results object with attributes:\n",
              " \n",
              " boxes: ultralytics.engine.results.Boxes object\n",
              " keypoints: None\n",
              " masks: None\n",
              " names: {0: 'missing_component'}\n",
              " obb: None\n",
              " orig_img: array([[[120, 114, 101],\n",
              "         [107, 101,  88],\n",
              "         [104, 101,  87],\n",
              "         ...,\n",
              "         [137, 131, 118],\n",
              "         [139, 133, 120],\n",
              "         [152, 146, 133]],\n",
              " \n",
              "        [[120, 114, 101],\n",
              "         [107, 101,  88],\n",
              "         [104, 101,  87],\n",
              "         ...,\n",
              "         [137, 131, 118],\n",
              "         [139, 133, 120],\n",
              "         [152, 146, 133]],\n",
              " \n",
              "        [[121, 115, 102],\n",
              "         [108, 102,  89],\n",
              "         [105, 102,  88],\n",
              "         ...,\n",
              "         [138, 132, 119],\n",
              "         [139, 133, 120],\n",
              "         [153, 147, 134]],\n",
              " \n",
              "        ...,\n",
              " \n",
              "        [[162, 162, 144],\n",
              "         [143, 143, 125],\n",
              "         [140, 140, 122],\n",
              "         ...,\n",
              "         [164, 157, 142],\n",
              "         [167, 160, 145],\n",
              "         [186, 179, 164]],\n",
              " \n",
              "        [[162, 162, 144],\n",
              "         [143, 143, 125],\n",
              "         [139, 139, 121],\n",
              "         ...,\n",
              "         [164, 157, 142],\n",
              "         [167, 160, 145],\n",
              "         [186, 179, 164]],\n",
              " \n",
              "        [[162, 162, 144],\n",
              "         [143, 143, 125],\n",
              "         [139, 139, 121],\n",
              "         ...,\n",
              "         [164, 157, 142],\n",
              "         [167, 160, 145],\n",
              "         [186, 179, 164]]], dtype=uint8)\n",
              " orig_shape: (640, 640)\n",
              " path: '/content/drive/MyDrive/datasets/data-v5/test/images/WIN_20240306_14_38_46_Pro_jpg.rf.e97564db3b35db60cf47a7b3fa9afae5.jpg'\n",
              " probs: None\n",
              " save_dir: 'runs/detect/predict5'\n",
              " speed: {'preprocess': 1.5916824340820312, 'inference': 57.157278060913086, 'postprocess': 1.5773773193359375},\n",
              " ultralytics.engine.results.Results object with attributes:\n",
              " \n",
              " boxes: ultralytics.engine.results.Boxes object\n",
              " keypoints: None\n",
              " masks: None\n",
              " names: {0: 'missing_component'}\n",
              " obb: None\n",
              " orig_img: array([[[116, 117, 101],\n",
              "         [108, 109,  93],\n",
              "         [103, 103,  91],\n",
              "         ...,\n",
              "         [139, 137, 126],\n",
              "         [141, 139, 128],\n",
              "         [154, 152, 141]],\n",
              " \n",
              "        [[116, 117, 101],\n",
              "         [109, 110,  94],\n",
              "         [104, 104,  92],\n",
              "         ...,\n",
              "         [139, 137, 126],\n",
              "         [141, 139, 128],\n",
              "         [154, 152, 141]],\n",
              " \n",
              "        [[117, 118, 102],\n",
              "         [109, 110,  94],\n",
              "         [104, 104,  92],\n",
              "         ...,\n",
              "         [140, 138, 127],\n",
              "         [141, 139, 128],\n",
              "         [155, 153, 142]],\n",
              " \n",
              "        ...,\n",
              " \n",
              "        [[164, 164, 150],\n",
              "         [145, 145, 131],\n",
              "         [141, 141, 127],\n",
              "         ...,\n",
              "         [164, 162, 151],\n",
              "         [169, 167, 156],\n",
              "         [188, 186, 175]],\n",
              " \n",
              "        [[164, 164, 150],\n",
              "         [145, 145, 131],\n",
              "         [141, 141, 127],\n",
              "         ...,\n",
              "         [164, 162, 151],\n",
              "         [168, 166, 155],\n",
              "         [188, 186, 175]],\n",
              " \n",
              "        [[163, 163, 149],\n",
              "         [144, 144, 130],\n",
              "         [140, 140, 126],\n",
              "         ...,\n",
              "         [164, 162, 151],\n",
              "         [168, 166, 155],\n",
              "         [188, 186, 175]]], dtype=uint8)\n",
              " orig_shape: (640, 640)\n",
              " path: '/content/drive/MyDrive/datasets/data-v5/test/images/WIN_20240306_14_45_47_Pro_jpg.rf.40dfde430e20a093818d79fd5567cc42.jpg'\n",
              " probs: None\n",
              " save_dir: 'runs/detect/predict5'\n",
              " speed: {'preprocess': 1.5943050384521484, 'inference': 57.784080505371094, 'postprocess': 3.149271011352539},\n",
              " ultralytics.engine.results.Results object with attributes:\n",
              " \n",
              " boxes: ultralytics.engine.results.Boxes object\n",
              " keypoints: None\n",
              " masks: None\n",
              " names: {0: 'missing_component'}\n",
              " obb: None\n",
              " orig_img: array([[[115, 115, 103],\n",
              "         [102, 102,  90],\n",
              "         [101, 101,  89],\n",
              "         ...,\n",
              "         [138, 136, 125],\n",
              "         [140, 138, 127],\n",
              "         [153, 151, 140]],\n",
              " \n",
              "        [[115, 115, 103],\n",
              "         [102, 102,  90],\n",
              "         [101, 101,  89],\n",
              "         ...,\n",
              "         [138, 136, 125],\n",
              "         [140, 138, 127],\n",
              "         [153, 151, 140]],\n",
              " \n",
              "        [[116, 116, 104],\n",
              "         [103, 103,  91],\n",
              "         [102, 102,  90],\n",
              "         ...,\n",
              "         [139, 137, 126],\n",
              "         [140, 138, 127],\n",
              "         [154, 152, 141]],\n",
              " \n",
              "        ...,\n",
              " \n",
              "        [[161, 161, 149],\n",
              "         [142, 142, 130],\n",
              "         [139, 139, 127],\n",
              "         ...,\n",
              "         [164, 162, 151],\n",
              "         [167, 165, 154],\n",
              "         [186, 184, 173]],\n",
              " \n",
              "        [[160, 160, 148],\n",
              "         [141, 141, 129],\n",
              "         [138, 138, 126],\n",
              "         ...,\n",
              "         [164, 162, 151],\n",
              "         [167, 165, 154],\n",
              "         [186, 184, 173]],\n",
              " \n",
              "        [[159, 159, 147],\n",
              "         [141, 141, 129],\n",
              "         [138, 138, 126],\n",
              "         ...,\n",
              "         [164, 162, 151],\n",
              "         [167, 165, 154],\n",
              "         [186, 184, 173]]], dtype=uint8)\n",
              " orig_shape: (640, 640)\n",
              " path: '/content/drive/MyDrive/datasets/data-v5/test/images/WIN_20240306_14_45_56_Pro_jpg.rf.165760870f46740c1194d0f2e08487e8.jpg'\n",
              " probs: None\n",
              " save_dir: 'runs/detect/predict5'\n",
              " speed: {'preprocess': 1.5223026275634766, 'inference': 54.92281913757324, 'postprocess': 1.2812614440917969},\n",
              " ultralytics.engine.results.Results object with attributes:\n",
              " \n",
              " boxes: ultralytics.engine.results.Boxes object\n",
              " keypoints: None\n",
              " masks: None\n",
              " names: {0: 'missing_component'}\n",
              " obb: None\n",
              " orig_img: array([[[116, 116, 104],\n",
              "         [103, 103,  91],\n",
              "         [102, 102,  90],\n",
              "         ...,\n",
              "         [136, 134, 123],\n",
              "         [138, 136, 125],\n",
              "         [152, 150, 139]],\n",
              " \n",
              "        [[116, 116, 104],\n",
              "         [103, 103,  91],\n",
              "         [102, 102,  90],\n",
              "         ...,\n",
              "         [136, 134, 123],\n",
              "         [138, 136, 125],\n",
              "         [152, 150, 139]],\n",
              " \n",
              "        [[117, 117, 105],\n",
              "         [104, 104,  92],\n",
              "         [103, 103,  91],\n",
              "         ...,\n",
              "         [136, 134, 123],\n",
              "         [138, 136, 125],\n",
              "         [152, 150, 139]],\n",
              " \n",
              "        ...,\n",
              " \n",
              "        [[163, 163, 149],\n",
              "         [144, 144, 130],\n",
              "         [141, 141, 127],\n",
              "         ...,\n",
              "         [163, 162, 148],\n",
              "         [166, 165, 151],\n",
              "         [185, 184, 170]],\n",
              " \n",
              "        [[162, 162, 148],\n",
              "         [144, 144, 130],\n",
              "         [140, 140, 126],\n",
              "         ...,\n",
              "         [163, 162, 148],\n",
              "         [166, 165, 151],\n",
              "         [185, 184, 170]],\n",
              " \n",
              "        [[162, 162, 148],\n",
              "         [143, 143, 129],\n",
              "         [140, 140, 126],\n",
              "         ...,\n",
              "         [163, 162, 148],\n",
              "         [166, 165, 151],\n",
              "         [185, 184, 170]]], dtype=uint8)\n",
              " orig_shape: (640, 640)\n",
              " path: '/content/drive/MyDrive/datasets/data-v5/test/images/WIN_20240306_14_47_52_Pro_jpg.rf.74340774e67c554f597c6625db19029d.jpg'\n",
              " probs: None\n",
              " save_dir: 'runs/detect/predict5'\n",
              " speed: {'preprocess': 1.5726089477539062, 'inference': 55.30881881713867, 'postprocess': 1.283884048461914},\n",
              " ultralytics.engine.results.Results object with attributes:\n",
              " \n",
              " boxes: ultralytics.engine.results.Boxes object\n",
              " keypoints: None\n",
              " masks: None\n",
              " names: {0: 'missing_component'}\n",
              " obb: None\n",
              " orig_img: array([[[115, 116, 100],\n",
              "         [107, 108,  92],\n",
              "         [102, 102,  90],\n",
              "         ...,\n",
              "         [139, 137, 126],\n",
              "         [140, 138, 127],\n",
              "         [153, 151, 140]],\n",
              " \n",
              "        [[115, 116, 100],\n",
              "         [108, 109,  93],\n",
              "         [103, 103,  91],\n",
              "         ...,\n",
              "         [139, 137, 126],\n",
              "         [140, 138, 127],\n",
              "         [153, 151, 140]],\n",
              " \n",
              "        [[116, 117, 101],\n",
              "         [108, 109,  93],\n",
              "         [103, 103,  91],\n",
              "         ...,\n",
              "         [139, 137, 126],\n",
              "         [140, 138, 127],\n",
              "         [154, 152, 141]],\n",
              " \n",
              "        ...,\n",
              " \n",
              "        [[164, 164, 150],\n",
              "         [145, 145, 131],\n",
              "         [141, 141, 127],\n",
              "         ...,\n",
              "         [166, 165, 151],\n",
              "         [169, 168, 154],\n",
              "         [188, 187, 173]],\n",
              " \n",
              "        [[164, 164, 150],\n",
              "         [145, 145, 131],\n",
              "         [141, 141, 127],\n",
              "         ...,\n",
              "         [166, 165, 151],\n",
              "         [169, 168, 154],\n",
              "         [188, 187, 173]],\n",
              " \n",
              "        [[164, 164, 150],\n",
              "         [145, 145, 131],\n",
              "         [142, 142, 128],\n",
              "         ...,\n",
              "         [166, 165, 151],\n",
              "         [169, 168, 154],\n",
              "         [188, 187, 173]]], dtype=uint8)\n",
              " orig_shape: (640, 640)\n",
              " path: '/content/drive/MyDrive/datasets/data-v5/test/images/WIN_20240306_14_49_04_Pro_jpg.rf.f6416821ae23bec269c097ef7a065e65.jpg'\n",
              " probs: None\n",
              " save_dir: 'runs/detect/predict5'\n",
              " speed: {'preprocess': 1.5883445739746094, 'inference': 53.64990234375, 'postprocess': 1.291513442993164},\n",
              " ultralytics.engine.results.Results object with attributes:\n",
              " \n",
              " boxes: ultralytics.engine.results.Boxes object\n",
              " keypoints: None\n",
              " masks: None\n",
              " names: {0: 'missing_component'}\n",
              " obb: None\n",
              " orig_img: array([[[116, 116, 104],\n",
              "         [103, 103,  91],\n",
              "         [102, 102,  90],\n",
              "         ...,\n",
              "         [137, 135, 124],\n",
              "         [139, 137, 126],\n",
              "         [152, 150, 139]],\n",
              " \n",
              "        [[116, 116, 104],\n",
              "         [103, 103,  91],\n",
              "         [103, 103,  91],\n",
              "         ...,\n",
              "         [137, 135, 124],\n",
              "         [139, 137, 126],\n",
              "         [152, 150, 139]],\n",
              " \n",
              "        [[117, 117, 105],\n",
              "         [104, 104,  92],\n",
              "         [103, 103,  91],\n",
              "         ...,\n",
              "         [138, 136, 125],\n",
              "         [139, 137, 126],\n",
              "         [153, 151, 140]],\n",
              " \n",
              "        ...,\n",
              " \n",
              "        [[163, 163, 149],\n",
              "         [144, 144, 130],\n",
              "         [140, 140, 126],\n",
              "         ...,\n",
              "         [166, 166, 154],\n",
              "         [161, 161, 149],\n",
              "         [186, 186, 174]],\n",
              " \n",
              "        [[163, 163, 149],\n",
              "         [144, 144, 130],\n",
              "         [140, 140, 126],\n",
              "         ...,\n",
              "         [165, 165, 153],\n",
              "         [160, 160, 148],\n",
              "         [185, 185, 173]],\n",
              " \n",
              "        [[162, 162, 148],\n",
              "         [143, 143, 129],\n",
              "         [139, 139, 125],\n",
              "         ...,\n",
              "         [165, 165, 153],\n",
              "         [160, 160, 148],\n",
              "         [185, 185, 173]]], dtype=uint8)\n",
              " orig_shape: (640, 640)\n",
              " path: '/content/drive/MyDrive/datasets/data-v5/test/images/WIN_20240306_14_50_23_Pro_jpg.rf.69ed317b91c050a1f3880f99745faf44.jpg'\n",
              " probs: None\n",
              " save_dir: 'runs/detect/predict5'\n",
              " speed: {'preprocess': 1.9409656524658203, 'inference': 54.36301231384277, 'postprocess': 1.3089179992675781},\n",
              " ultralytics.engine.results.Results object with attributes:\n",
              " \n",
              " boxes: ultralytics.engine.results.Boxes object\n",
              " keypoints: None\n",
              " masks: None\n",
              " names: {0: 'missing_component'}\n",
              " obb: None\n",
              " orig_img: array([[[113, 113, 101],\n",
              "         [106, 106,  94],\n",
              "         [102, 102,  90],\n",
              "         ...,\n",
              "         [139, 137, 126],\n",
              "         [141, 139, 128],\n",
              "         [154, 152, 141]],\n",
              " \n",
              "        [[113, 113, 101],\n",
              "         [106, 106,  94],\n",
              "         [102, 102,  90],\n",
              "         ...,\n",
              "         [139, 137, 126],\n",
              "         [141, 139, 128],\n",
              "         [154, 152, 141]],\n",
              " \n",
              "        [[114, 114, 102],\n",
              "         [106, 106,  94],\n",
              "         [102, 102,  90],\n",
              "         ...,\n",
              "         [140, 138, 127],\n",
              "         [141, 139, 128],\n",
              "         [155, 153, 142]],\n",
              " \n",
              "        ...,\n",
              " \n",
              "        [[163, 163, 149],\n",
              "         [144, 144, 130],\n",
              "         [141, 141, 127],\n",
              "         ...,\n",
              "         [163, 163, 151],\n",
              "         [166, 166, 154],\n",
              "         [185, 185, 173]],\n",
              " \n",
              "        [[163, 163, 149],\n",
              "         [144, 144, 130],\n",
              "         [141, 141, 127],\n",
              "         ...,\n",
              "         [163, 163, 151],\n",
              "         [166, 166, 154],\n",
              "         [185, 185, 173]],\n",
              " \n",
              "        [[163, 163, 149],\n",
              "         [144, 144, 130],\n",
              "         [141, 141, 127],\n",
              "         ...,\n",
              "         [163, 163, 151],\n",
              "         [166, 166, 154],\n",
              "         [185, 185, 173]]], dtype=uint8)\n",
              " orig_shape: (640, 640)\n",
              " path: '/content/drive/MyDrive/datasets/data-v5/test/images/WIN_20240306_14_54_45_Pro_jpg.rf.c0795616711d80e1f798a5e0972c1cd6.jpg'\n",
              " probs: None\n",
              " save_dir: 'runs/detect/predict5'\n",
              " speed: {'preprocess': 2.0797252655029297, 'inference': 52.48689651489258, 'postprocess': 1.3096332550048828},\n",
              " ultralytics.engine.results.Results object with attributes:\n",
              " \n",
              " boxes: ultralytics.engine.results.Boxes object\n",
              " keypoints: None\n",
              " masks: None\n",
              " names: {0: 'missing_component'}\n",
              " obb: None\n",
              " orig_img: array([[[117, 118, 102],\n",
              "         [104, 105,  89],\n",
              "         [103, 103,  91],\n",
              "         ...,\n",
              "         [136, 134, 123],\n",
              "         [137, 135, 124],\n",
              "         [150, 148, 137]],\n",
              " \n",
              "        [[117, 118, 102],\n",
              "         [104, 105,  89],\n",
              "         [103, 103,  91],\n",
              "         ...,\n",
              "         [136, 134, 123],\n",
              "         [137, 135, 124],\n",
              "         [150, 148, 137]],\n",
              " \n",
              "        [[117, 118, 102],\n",
              "         [104, 105,  89],\n",
              "         [103, 103,  91],\n",
              "         ...,\n",
              "         [136, 134, 123],\n",
              "         [137, 135, 124],\n",
              "         [151, 149, 138]],\n",
              " \n",
              "        ...,\n",
              " \n",
              "        [[163, 163, 149],\n",
              "         [144, 144, 130],\n",
              "         [140, 140, 126],\n",
              "         ...,\n",
              "         [165, 165, 151],\n",
              "         [168, 168, 154],\n",
              "         [184, 184, 170]],\n",
              " \n",
              "        [[163, 163, 149],\n",
              "         [144, 144, 130],\n",
              "         [140, 140, 126],\n",
              "         ...,\n",
              "         [165, 165, 151],\n",
              "         [168, 168, 154],\n",
              "         [183, 183, 169]],\n",
              " \n",
              "        [[162, 162, 148],\n",
              "         [143, 143, 129],\n",
              "         [139, 139, 125],\n",
              "         ...,\n",
              "         [164, 164, 150],\n",
              "         [168, 168, 154],\n",
              "         [183, 183, 169]]], dtype=uint8)\n",
              " orig_shape: (640, 640)\n",
              " path: '/content/drive/MyDrive/datasets/data-v5/test/images/WIN_20240306_14_56_30_Pro_jpg.rf.44de998f90c07eb5f947639169794918.jpg'\n",
              " probs: None\n",
              " save_dir: 'runs/detect/predict5'\n",
              " speed: {'preprocess': 2.033710479736328, 'inference': 53.41935157775879, 'postprocess': 1.252889633178711},\n",
              " ultralytics.engine.results.Results object with attributes:\n",
              " \n",
              " boxes: ultralytics.engine.results.Boxes object\n",
              " keypoints: None\n",
              " masks: None\n",
              " names: {0: 'missing_component'}\n",
              " obb: None\n",
              " orig_img: array([[[105, 106,  97],\n",
              "         [ 97,  98,  89],\n",
              "         [ 92,  93,  84],\n",
              "         ...,\n",
              "         [125, 123, 115],\n",
              "         [128, 126, 118],\n",
              "         [143, 141, 133]],\n",
              " \n",
              "        [[105, 106,  97],\n",
              "         [ 97,  98,  89],\n",
              "         [ 92,  93,  84],\n",
              "         ...,\n",
              "         [125, 123, 115],\n",
              "         [128, 126, 118],\n",
              "         [143, 141, 133]],\n",
              " \n",
              "        [[106, 107,  98],\n",
              "         [ 98,  99,  90],\n",
              "         [ 93,  94,  85],\n",
              "         ...,\n",
              "         [125, 123, 115],\n",
              "         [128, 126, 118],\n",
              "         [143, 141, 133]],\n",
              " \n",
              "        ...,\n",
              " \n",
              "        [[141, 142, 133],\n",
              "         [126, 127, 118],\n",
              "         [123, 124, 115],\n",
              "         ...,\n",
              "         [147, 145, 137],\n",
              "         [150, 148, 140],\n",
              "         [164, 162, 154]],\n",
              " \n",
              "        [[140, 141, 132],\n",
              "         [125, 126, 117],\n",
              "         [123, 124, 115],\n",
              "         ...,\n",
              "         [147, 145, 137],\n",
              "         [150, 148, 140],\n",
              "         [164, 162, 154]],\n",
              " \n",
              "        [[140, 141, 132],\n",
              "         [125, 126, 117],\n",
              "         [123, 124, 115],\n",
              "         ...,\n",
              "         [147, 145, 137],\n",
              "         [150, 148, 140],\n",
              "         [164, 162, 154]]], dtype=uint8)\n",
              " orig_shape: (640, 640)\n",
              " path: '/content/drive/MyDrive/datasets/data-v5/test/images/WIN_20240307_16_30_14_Pro_jpg.rf.1154aa160d05f0d44bd986e8888e18f0.jpg'\n",
              " probs: None\n",
              " save_dir: 'runs/detect/predict5'\n",
              " speed: {'preprocess': 2.0325183868408203, 'inference': 54.402828216552734, 'postprocess': 1.8243789672851562},\n",
              " ultralytics.engine.results.Results object with attributes:\n",
              " \n",
              " boxes: ultralytics.engine.results.Boxes object\n",
              " keypoints: None\n",
              " masks: None\n",
              " names: {0: 'missing_component'}\n",
              " obb: None\n",
              " orig_img: array([[[104, 106,  94],\n",
              "         [ 96,  98,  86],\n",
              "         [ 92,  94,  82],\n",
              "         ...,\n",
              "         [126, 124, 113],\n",
              "         [129, 127, 116],\n",
              "         [144, 142, 131]],\n",
              " \n",
              "        [[104, 106,  94],\n",
              "         [ 97,  99,  87],\n",
              "         [ 92,  94,  82],\n",
              "         ...,\n",
              "         [126, 124, 113],\n",
              "         [129, 127, 116],\n",
              "         [144, 142, 131]],\n",
              " \n",
              "        [[105, 107,  95],\n",
              "         [ 97,  99,  87],\n",
              "         [ 93,  95,  83],\n",
              "         ...,\n",
              "         [126, 124, 113],\n",
              "         [129, 127, 116],\n",
              "         [144, 142, 131]],\n",
              " \n",
              "        ...,\n",
              " \n",
              "        [[145, 145, 133],\n",
              "         [129, 129, 117],\n",
              "         [127, 127, 115],\n",
              "         ...,\n",
              "         [153, 151, 140],\n",
              "         [156, 154, 143],\n",
              "         [173, 171, 160]],\n",
              " \n",
              "        [[145, 145, 133],\n",
              "         [128, 128, 116],\n",
              "         [127, 127, 115],\n",
              "         ...,\n",
              "         [153, 151, 140],\n",
              "         [155, 153, 142],\n",
              "         [173, 171, 160]],\n",
              " \n",
              "        [[145, 145, 133],\n",
              "         [128, 128, 116],\n",
              "         [127, 127, 115],\n",
              "         ...,\n",
              "         [153, 151, 140],\n",
              "         [155, 153, 142],\n",
              "         [172, 170, 159]]], dtype=uint8)\n",
              " orig_shape: (640, 640)\n",
              " path: '/content/drive/MyDrive/datasets/data-v5/test/images/WIN_20240307_16_31_16_Pro_jpg.rf.3ee57e016b09caab4f8a576b26b7f627.jpg'\n",
              " probs: None\n",
              " save_dir: 'runs/detect/predict5'\n",
              " speed: {'preprocess': 2.080202102661133, 'inference': 52.44851112365723, 'postprocess': 1.2950897216796875},\n",
              " ultralytics.engine.results.Results object with attributes:\n",
              " \n",
              " boxes: ultralytics.engine.results.Boxes object\n",
              " keypoints: None\n",
              " masks: None\n",
              " names: {0: 'missing_component'}\n",
              " obb: None\n",
              " orig_img: array([[[113, 107,  96],\n",
              "         [100,  94,  83],\n",
              "         [ 97,  93,  82],\n",
              "         ...,\n",
              "         [132, 124, 111],\n",
              "         [134, 126, 113],\n",
              "         [147, 139, 126]],\n",
              " \n",
              "        [[113, 107,  96],\n",
              "         [100,  94,  83],\n",
              "         [ 98,  94,  83],\n",
              "         ...,\n",
              "         [132, 124, 111],\n",
              "         [134, 126, 113],\n",
              "         [147, 139, 126]],\n",
              " \n",
              "        [[113, 107,  96],\n",
              "         [100,  94,  83],\n",
              "         [ 98,  94,  83],\n",
              "         ...,\n",
              "         [133, 125, 112],\n",
              "         [134, 126, 113],\n",
              "         [148, 140, 127]],\n",
              " \n",
              "        ...,\n",
              " \n",
              "        [[149, 145, 127],\n",
              "         [131, 127, 109],\n",
              "         [128, 123, 108],\n",
              "         ...,\n",
              "         [149, 144, 129],\n",
              "         [151, 146, 131],\n",
              "         [165, 160, 145]],\n",
              " \n",
              "        [[149, 145, 127],\n",
              "         [130, 126, 108],\n",
              "         [127, 122, 107],\n",
              "         ...,\n",
              "         [149, 144, 129],\n",
              "         [151, 146, 131],\n",
              "         [165, 160, 145]],\n",
              " \n",
              "        [[149, 145, 127],\n",
              "         [130, 126, 108],\n",
              "         [127, 122, 107],\n",
              "         ...,\n",
              "         [149, 144, 129],\n",
              "         [151, 146, 131],\n",
              "         [165, 160, 145]]], dtype=uint8)\n",
              " orig_shape: (640, 640)\n",
              " path: '/content/drive/MyDrive/datasets/data-v5/test/images/WIN_20240307_17_04_10_Pro_jpg.rf.4543f65c2dd996a783d977fa324fcd00.jpg'\n",
              " probs: None\n",
              " save_dir: 'runs/detect/predict5'\n",
              " speed: {'preprocess': 2.021312713623047, 'inference': 55.419206619262695, 'postprocess': 1.4879703521728516}]"
            ]
          },
          "metadata": {},
          "execution_count": 106
        }
      ]
    },
    {
      "cell_type": "code",
      "source": [
        "import threading\n",
        "import time\n",
        "import os\n",
        "import sys\n",
        "\n",
        "i=0\n",
        "t=0\n",
        "\n",
        "def print_message():\n",
        "  i=0\n",
        "  while (i<10):\n",
        "    i+=1\n",
        "    print(f\"Numeric{i}\")\n",
        "    time.sleep(1)\n",
        "\n",
        "def prin_alphabet():\n",
        "  t=0\n",
        "  while(t<10):\n",
        "    t+=1\n",
        "    print(f\"a\")\n",
        "    time.sleep(2)\n",
        "\n",
        "\n",
        "thread1 = threading.Thread(target=print_message)\n",
        "thread2= threading.Thread(target=prin_alphabet)\n",
        "\n",
        "\n",
        "thread1.start()\n",
        "thread2.start()\n",
        "\n",
        "thread1.join()\n",
        "thread2.join()\n",
        "\n",
        "\n",
        "\n"
      ],
      "metadata": {
        "id": "wg3tVxJecyaM",
        "colab": {
          "base_uri": "https://localhost:8080/"
        },
        "outputId": "75a7ef33-c969-4a7b-843f-7ef6434e72e9"
      },
      "execution_count": null,
      "outputs": [
        {
          "output_type": "stream",
          "name": "stdout",
          "text": [
            "Numeric1\n",
            "a\n",
            "Numeric2\n",
            "Numeric3\n",
            "a\n",
            "Numeric4\n",
            "Numeric5\n",
            "a\n",
            "Numeric6\n",
            "Numeric7\n",
            "a\n",
            "Numeric8\n",
            "Numeric9\n",
            "a\n",
            "Numeric10\n",
            "a\n",
            "a\n",
            "a\n",
            "a\n",
            "a\n"
          ]
        }
      ]
    },
    {
      "cell_type": "code",
      "source": [],
      "metadata": {
        "id": "vPC57r5ZRYmp"
      },
      "execution_count": null,
      "outputs": []
    }
  ],
  "metadata": {
    "accelerator": "GPU",
    "colab": {
      "gpuType": "T4",
      "provenance": [],
      "include_colab_link": true
    },
    "kernelspec": {
      "display_name": "Python 3",
      "name": "python3"
    },
    "language_info": {
      "name": "python"
    }
  },
  "nbformat": 4,
  "nbformat_minor": 0
}